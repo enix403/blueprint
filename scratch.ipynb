{
 "cells": [
  {
   "cell_type": "code",
   "execution_count": 24,
   "id": "c66dc4d2-743b-4e6e-a683-8e7428be5c4d",
   "metadata": {},
   "outputs": [
    {
     "name": "stdout",
     "output_type": "stream",
     "text": [
      "The autoreload extension is already loaded. To reload it, use:\n",
      "  %reload_ext autoreload\n"
     ]
    }
   ],
   "source": [
    "%load_ext autoreload\n",
    "%autoreload 2"
   ]
  },
  {
   "cell_type": "code",
   "execution_count": 50,
   "id": "9727883f-7d23-49a3-8190-f1ce6f77d4b9",
   "metadata": {},
   "outputs": [],
   "source": [
    "import numpy as np\n",
    "\n",
    "import torch\n",
    "import torch.nn.functional as F\n",
    "import torchvision.transforms as transforms\n",
    "from matplotlib import pyplot as plt\n",
    "from matplotlib import colors\n",
    "from matplotlib.colors import ListedColormap\n",
    "\n",
    "import networkx as nx\n",
    "\n",
    "from minimal.imaging import blit_rooms\n",
    "from minimal.layout import LayoutGraph, NodeType\n",
    "from minimal.gen import generate_plan, PlanMasks\n",
    "from minimal import sample_graphs\n",
    "from minimal.rooms import RoomAreas, extract_rooms, create_orientation_mask\n",
    "from minimal.walls import find_walls\n",
    "\n",
    "%matplotlib inline"
   ]
  },
  {
   "cell_type": "code",
   "execution_count": 26,
   "id": "d9873112-a28b-4a36-8c66-ebbb7ff4611a",
   "metadata": {},
   "outputs": [
    {
     "name": "stdout",
     "output_type": "stream",
     "text": [
      "CPU times: user 868 ms, sys: 630 µs, total: 869 ms\n",
      "Wall time: 868 ms\n"
     ]
    }
   ],
   "source": [
    "%%time\n",
    "pm = PlanMasks.create_from_state(torch.load(\"data/plan_masks_01.pth\"))\n",
    "rooms = extract_rooms(pm)"
   ]
  },
  {
   "cell_type": "code",
   "execution_count": 40,
   "id": "585ea312-300e-4231-b9dd-4550cff7cb9d",
   "metadata": {},
   "outputs": [],
   "source": [
    "walls_mask, inner_mask = find_walls(rooms)\n",
    "rect_mask = sum(room.to_mask() * (i + 1) for i, room in enumerate(rooms))"
   ]
  },
  {
   "cell_type": "code",
   "execution_count": 65,
   "id": "9eb9e251-f887-40af-b8b0-bf686503aaa6",
   "metadata": {},
   "outputs": [
    {
     "data": {
      "text/plain": [
       "<matplotlib.image.AxesImage at 0x791fa662e070>"
      ]
     },
     "execution_count": 65,
     "metadata": {},
     "output_type": "execute_result"
    },
    {
     "data": {
      "image/png": "[encoded data removed]",
      "text/plain": [
       "<Figure size 1000x500 with 3 Axes>"
      ]
     },
     "metadata": {},
     "output_type": "display_data"
    }
   ],
   "source": [
    "plt.figure(figsize=(10,5))\n",
    "\n",
    "plt.subplot(131)\n",
    "plt.imshow(walls_mask)\n",
    "\n",
    "plt.subplot(132)\n",
    "plt.imshow(walls_mask * inner_mask)\n",
    "\n",
    "plt.subplot(133)\n",
    "plt.imshow(rect_mask)"
   ]
  },
  {
   "cell_type": "code",
   "execution_count": 76,
   "id": "9b8ea434-2b0e-4700-b16c-a31f1ea5e154",
   "metadata": {},
   "outputs": [
    {
     "name": "stdout",
     "output_type": "stream",
     "text": [
      "tensor([[ 0,  0,  0,  0,  0],\n",
      "        [ 0,  0,  2, -1,  0],\n",
      "        [ 0,  0, -1,  2,  0],\n",
      "        [ 0,  0,  0,  0,  0],\n",
      "        [ 0,  0,  0,  0,  0]], dtype=torch.int8)\n",
      "\n",
      "tensor([[ 0,  0,  0,  0,  0],\n",
      "        [ 0,  0,  0,  0,  0],\n",
      "        [ 0,  2, -1,  0,  0],\n",
      "        [ 0, -1,  2,  0,  0],\n",
      "        [ 0,  0,  0,  0,  0]], dtype=torch.int8)\n"
     ]
    }
   ],
   "source": [
    "df = torch.tensor([\n",
    "    [2, -1],\n",
    "    [-1, 2],\n",
    "], dtype=torch.int8)\n",
    "\n",
    "\n",
    "kern1 = torch.zeros((5, 5), dtype=torch.int8)\n",
    "kern2 = torch.zeros((5, 5), dtype=torch.int8)\n",
    "\n",
    "kern1[1:3,2:4] = df\n",
    "kern2[2:4,1:3] = df\n",
    "\n",
    "print(kern1)\n",
    "print()\n",
    "print(kern2)"
   ]
  }
 ],
 "metadata": {
  "kernelspec": {
   "display_name": "Python 3 (ipykernel)",
   "language": "python",
   "name": "python3"
  },
  "language_info": {
   "codemirror_mode": {
    "name": "ipython",
    "version": 3
   },
   "file_extension": ".py",
   "mimetype": "text/x-python",
   "name": "python",
   "nbconvert_exporter": "python",
   "pygments_lexer": "ipython3",
   "version": "3.9.21"
  }
 },
 "nbformat": 4,
 "nbformat_minor": 5
}
