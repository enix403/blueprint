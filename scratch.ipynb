{
 "cells": [
  {
   "cell_type": "code",
   "execution_count": 1,
   "id": "c66dc4d2-743b-4e6e-a683-8e7428be5c4d",
   "metadata": {},
   "outputs": [],
   "source": [
    "%load_ext autoreload\n",
    "%autoreload 2"
   ]
  },
  {
   "cell_type": "code",
   "execution_count": 2,
   "id": "9727883f-7d23-49a3-8190-f1ce6f77d4b9",
   "metadata": {},
   "outputs": [],
   "source": [
    "import numpy as np\n",
    "\n",
    "import torch\n",
    "import torch.nn.functional as F\n",
    "import torchvision.transforms as transforms\n",
    "from matplotlib import pyplot as plt\n",
    "from matplotlib import colors\n",
    "from matplotlib.colors import ListedColormap\n",
    "\n",
    "import networkx as nx\n",
    "\n",
    "from minimal.imaging import blit_rooms\n",
    "from minimal.layout import LayoutGraph, NodeType\n",
    "from minimal.gen import generate_plan, PlanMasks\n",
    "from minimal import sample_graphs\n",
    "from minimal.rooms import RoomAreas, extract_rooms, create_orientation_mask\n",
    "from minimal.walls import find_walls, intersect_rooms, join_wall_corners\n",
    "\n",
    "%matplotlib inline"
   ]
  },
  {
   "cell_type": "code",
   "execution_count": 3,
   "id": "766af95a-77ec-4bd8-a06b-c6c4c1fcad5d",
   "metadata": {},
   "outputs": [],
   "source": [
    "cmapr = ListedColormap(['white', *plt.get_cmap('tab10').colors])\n",
    "cmapw = ListedColormap(['white', 'black', *plt.get_cmap('tab10').colors])"
   ]
  },
  {
   "cell_type": "code",
   "execution_count": 4,
   "id": "d9873112-a28b-4a36-8c66-ebbb7ff4611a",
   "metadata": {},
   "outputs": [
    {
     "name": "stdout",
     "output_type": "stream",
     "text": [
      "CPU times: user 1.18 s, sys: 0 ns, total: 1.18 s\n",
      "Wall time: 1.18 s\n"
     ]
    }
   ],
   "source": [
    "%%time\n",
    "pm = PlanMasks.create_from_state(torch.load(\"data/plan_masks_03.pth\"))\n",
    "rooms = extract_rooms(pm)"
   ]
  },
  {
   "cell_type": "code",
   "execution_count": 5,
   "id": "335901a2-bcd5-42ed-9e6a-779d3cbf8d1a",
   "metadata": {},
   "outputs": [],
   "source": [
    "rect_mask = sum(room.to_mask() * (i + 1) for i, room in enumerate(rooms))"
   ]
  },
  {
   "cell_type": "code",
   "execution_count": 6,
   "id": "585ea312-300e-4231-b9dd-4550cff7cb9d",
   "metadata": {},
   "outputs": [],
   "source": [
    "inner_mask, walls_mask = intersect_rooms(rooms)"
   ]
  },
  {
   "cell_type": "code",
   "execution_count": 7,
   "id": "49161dd8-4140-4ffd-8d14-30d860992f5e",
   "metadata": {},
   "outputs": [
    {
     "name": "stdout",
     "output_type": "stream",
     "text": [
      "tensor(True)\n"
     ]
    },
    {
     "data": {
      "text/plain": [
       "<matplotlib.image.AxesImage at 0x7e7ebb5f0d60>"
      ]
     },
     "execution_count": 7,
     "metadata": {},
     "output_type": "execute_result"
    },
    {
     "data": {
      "image/png": "[encoded data removed]",
      "text/plain": [
       "<Figure size 1200x300 with 3 Axes>"
      ]
     },
     "metadata": {},
     "output_type": "display_data"
    }
   ],
   "source": [
    "from minimal.walls import join_wall_corners\n",
    "\n",
    "walls_mask = join_wall_corners(walls_mask, inner_mask)\n",
    "\n",
    "print(torch.all(walls_mask * inner_mask == walls_mask))\n",
    "\n",
    "plt.figure(figsize=(12,3))\n",
    "\n",
    "plt.subplot(131)\n",
    "plt.imshow(rect_mask, cmap=cmapr)\n",
    "\n",
    "plt.subplot(132)\n",
    "plt.imshow(walls_mask)\n",
    "\n",
    "plt.subplot(133)\n",
    "rooms_with_walls = sum(room.to_mask() * (i + 2) for i, room in enumerate(rooms))\n",
    "rooms_with_walls[torch.where(walls_mask == 1)] = 1\n",
    "plt.imshow(rooms_with_walls, cmap=cmapw)"
   ]
  },
  {
   "cell_type": "code",
   "execution_count": 8,
   "id": "8e402cb1-bf9c-4f0d-a529-5ed531eef434",
   "metadata": {},
   "outputs": [],
   "source": [
    "BOUNDARY_TOP    = 0b0001\n",
    "BOUNDARY_RIGHT  = 0b0010\n",
    "BOUNDARY_BOTTOM = 0b0100\n",
    "BOUNDARY_LEFT   = 0b1000"
   ]
  },
  {
   "cell_type": "code",
   "execution_count": 9,
   "id": "b4596021-a123-47f6-8dc3-b59ad0162dcb",
   "metadata": {
    "scrolled": true
   },
   "outputs": [],
   "source": [
    "import torch\n",
    "\n",
    "def zero_out_unit_length_runs(tensor: torch.Tensor) -> torch.Tensor:\n",
    "    if tensor.numel() < 3:  # Edge case: A tensor of length < 3 cannot have unit-length runs\n",
    "        return\n",
    "\n",
    "    # Identify positions where a number is between two zeros\n",
    "    left_shift = torch.cat([torch.tensor([0]), tensor[:-1]])  # Shift left (prepend 0)\n",
    "    right_shift = torch.cat([tensor[1:], torch.tensor([0])])  # Shift right (append 0)\n",
    "\n",
    "    # Find unit-length runs: elements that have 0 on both sides and are >0\n",
    "    unit_length_mask = (left_shift == 0) & (right_shift == 0) & (tensor > 0)\n",
    "    \n",
    "    tensor[unit_length_mask] = 0\n",
    "\n",
    "orient_mask = torch.zeros_like(walls_mask)\n",
    "\n",
    "def hline(p0, p1, val):\n",
    "    x0, y0 = p0\n",
    "    _, y1 = p1\n",
    "\n",
    "    line_mask = torch.zeros_like(orient_mask)\n",
    "    line_mask[x0, y0:y1+1] = val\n",
    "    line_mask.multiply_(walls_mask)\n",
    "\n",
    "    zero_out_unit_length_runs(line_mask[x0, y0:y1+1])\n",
    "\n",
    "    orient_mask.add_(line_mask)\n",
    "\n",
    "def vline(p0, p1, val):\n",
    "    x0, y0 = p0\n",
    "    x1, _ = p1\n",
    "\n",
    "    line_mask = torch.zeros_like(orient_mask)\n",
    "    line_mask[x0:x1+1, y0] = val\n",
    "    line_mask.multiply_(walls_mask)\n",
    "    \n",
    "    zero_out_unit_length_runs(line_mask[x0:x1+1, y0])\n",
    "    \n",
    "    orient_mask.add_(line_mask)\n",
    "\n",
    "for room in rooms:\n",
    "    for rect in room.iter_rects():\n",
    "        x, y, w, h = rect\n",
    "\n",
    "        tl = (x, y)\n",
    "        tr = (x, y + w - 1)\n",
    "        br = (x + h - 1, y + w - 1)\n",
    "        bl = (x + h - 1, y)\n",
    "    \n",
    "        hline(tl, tr, BOUNDARY_TOP)\n",
    "        vline(tr, br, BOUNDARY_RIGHT)\n",
    "        hline(bl, br, BOUNDARY_BOTTOM)\n",
    "        vline(tl, bl, BOUNDARY_LEFT)"
   ]
  },
  {
   "cell_type": "code",
   "execution_count": 186,
   "id": "3efb6b3a-e525-4af0-b858-beaad72d9a21",
   "metadata": {},
   "outputs": [
    {
     "data": {
      "text/plain": [
       "<matplotlib.image.AxesImage at 0x7909d8b344f0>"
      ]
     },
     "execution_count": 186,
     "metadata": {},
     "output_type": "execute_result"
    },
    {
     "data": {
      "image/png": "[encoded data removed]",
      "text/plain": [
       "<Figure size 1500x700 with 2 Axes>"
      ]
     },
     "metadata": {},
     "output_type": "display_data"
    }
   ],
   "source": [
    "plt.figure(figsize=(15,7))\n",
    "\n",
    "plt.subplot(121)\n",
    "plt.imshow(orient_mask)\n",
    "\n",
    "plt.subplot(122)\n",
    "plt.imshow(walls_mask)"
   ]
  }
 ],
 "metadata": {
  "kernelspec": {
   "display_name": "Python 3 (ipykernel)",
   "language": "python",
   "name": "python3"
  },
  "language_info": {
   "codemirror_mode": {
    "name": "ipython",
    "version": 3
   },
   "file_extension": ".py",
   "mimetype": "text/x-python",
   "name": "python",
   "nbconvert_exporter": "python",
   "pygments_lexer": "ipython3",
   "version": "3.9.21"
  }
 },
 "nbformat": 4,
 "nbformat_minor": 5
}
