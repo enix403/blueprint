{
 "cells": [
  {
   "cell_type": "code",
   "execution_count": 1,
   "id": "c66dc4d2-743b-4e6e-a683-8e7428be5c4d",
   "metadata": {},
   "outputs": [],
   "source": [
    "%load_ext autoreload\n",
    "%autoreload 2"
   ]
  },
  {
   "cell_type": "code",
   "execution_count": 5,
   "id": "9727883f-7d23-49a3-8190-f1ce6f77d4b9",
   "metadata": {},
   "outputs": [],
   "source": [
    "import os\n",
    "import json\n",
    "import gc\n",
    "from pathlib import Path\n",
    "\n",
    "import cv2\n",
    "import torch\n",
    "import torch.nn.functional as F\n",
    "import torchvision.transforms as transforms\n",
    "from matplotlib import pyplot as plt\n",
    "from matplotlib import colors\n",
    "from matplotlib.colors import ListedColormap\n",
    "import webcolors\n",
    "from PIL import Image, ImageDraw\n",
    "\n",
    "from minimal.layout import InputLayout\n",
    "from minimal.imaging import draw_plan\n",
    "from minimal.gen import run_model\n",
    "\n",
    "%matplotlib inline"
   ]
  },
  {
   "cell_type": "code",
   "execution_count": 3,
   "id": "d19f6f3d-3cf8-4379-ad22-255462f32ae6",
   "metadata": {},
   "outputs": [],
   "source": [
    "from minimal import sample_graphs\n",
    "\n",
    "from pregen.premade import premade_graphs\n",
    "from pregen import signature as sg"
   ]
  },
  {
   "cell_type": "code",
   "execution_count": 11,
   "id": "dd15efbd-4cd6-44ce-899a-2916a78a0812",
   "metadata": {},
   "outputs": [
    {
     "name": "stdout",
     "output_type": "stream",
     "text": [
      "48\n"
     ]
    }
   ],
   "source": [
    "# print(len(premade_graphs))\n",
    "# for g in premade_graphs:\n",
    "#     path = \"plibrary/\" + sg.graph_folder_name(g)\n",
    "#     if not Path(path).is_dir():\n",
    "#         print(path)"
   ]
  },
  {
   "cell_type": "code",
   "execution_count": 18,
   "id": "2c96aa0b-5ed9-4967-92e1-704fc8275d6e",
   "metadata": {},
   "outputs": [
    {
     "name": "stdout",
     "output_type": "stream",
     "text": [
      "31 557dbca12dfbd63a0794\n",
      "33\n"
     ]
    }
   ],
   "source": [
    "prev = {}\n",
    "for i, g in enumerate(premade_graphs):\n",
    "    s = sg.graph_folder_name(g)\n",
    "    if s in prev:\n",
    "        print(prev[s], s)\n",
    "        print(i)\n",
    "    prev[s] = i"
   ]
  }
 ],
 "metadata": {
  "kernelspec": {
   "display_name": "Python 3 (ipykernel)",
   "language": "python",
   "name": "python3"
  },
  "language_info": {
   "codemirror_mode": {
    "name": "ipython",
    "version": 3
   },
   "file_extension": ".py",
   "mimetype": "text/x-python",
   "name": "python",
   "nbconvert_exporter": "python",
   "pygments_lexer": "ipython3",
   "version": "3.9.21"
  }
 },
 "nbformat": 4,
 "nbformat_minor": 5
}
