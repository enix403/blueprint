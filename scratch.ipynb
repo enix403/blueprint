{
 "cells": [
  {
   "cell_type": "code",
   "execution_count": 1,
   "id": "c66dc4d2-743b-4e6e-a683-8e7428be5c4d",
   "metadata": {},
   "outputs": [],
   "source": [
    "%load_ext autoreload\n",
    "%autoreload 2"
   ]
  },
  {
   "cell_type": "code",
   "execution_count": 2,
   "id": "9727883f-7d23-49a3-8190-f1ce6f77d4b9",
   "metadata": {},
   "outputs": [],
   "source": [
    "import numpy as np\n",
    "\n",
    "import torch\n",
    "import torch.nn.functional as F\n",
    "import torchvision.transforms as transforms\n",
    "from matplotlib import pyplot as plt\n",
    "from matplotlib import colors\n",
    "from matplotlib.colors import ListedColormap\n",
    "import webcolors\n",
    "from PIL import Image, ImageDraw\n",
    "\n",
    "import networkx as nx\n",
    "\n",
    "from minimal.imaging import blit_rooms\n",
    "from minimal.layout import NodeType, NODE_COLOR\n",
    "from minimal.gen import PlanMasks\n",
    "from minimal.rooms import RoomAreas, extract_rooms\n",
    "from minimal.walls import create_sep_mask, scale_sep_mask\n",
    "\n",
    "%matplotlib inline"
   ]
  },
  {
   "cell_type": "code",
   "execution_count": 3,
   "id": "766af95a-77ec-4bd8-a06b-c6c4c1fcad5d",
   "metadata": {},
   "outputs": [],
   "source": [
    "cmapr = ListedColormap(['white', *plt.get_cmap('tab10').colors])\n",
    "cmapw = ListedColormap(['white', 'black', *plt.get_cmap('tab10').colors])"
   ]
  },
  {
   "cell_type": "code",
   "execution_count": 4,
   "id": "d9873112-a28b-4a36-8c66-ebbb7ff4611a",
   "metadata": {},
   "outputs": [
    {
     "name": "stdout",
     "output_type": "stream",
     "text": [
      "CPU times: user 664 ms, sys: 4 µs, total: 664 ms\n",
      "Wall time: 663 ms\n"
     ]
    },
    {
     "data": {
      "image/png": "[encoded data removed]",
      "text/plain": [
       "<PIL.Image.Image image mode=RGB size=256x256>"
      ]
     },
     "execution_count": 4,
     "metadata": {},
     "output_type": "execute_result"
    }
   ],
   "source": [
    "%%time\n",
    "pm = PlanMasks.create_from_state(torch.load(\"data/plan_masks_02.pth\"))\n",
    "rooms = extract_rooms(pm)\n",
    "rooms.sort(key=lambda r: r.total_area())\n",
    "blit_rooms(rooms)"
   ]
  },
  {
   "cell_type": "code",
   "execution_count": 5,
   "id": "585ea312-300e-4231-b9dd-4550cff7cb9d",
   "metadata": {},
   "outputs": [],
   "source": [
    "room_mask = sum(room.to_mask() * (i + 1) for i, room in enumerate(rooms))\n",
    "sep_mask = create_sep_mask(room_mask)"
   ]
  },
  {
   "cell_type": "code",
   "execution_count": 13,
   "id": "9a4731c5-8155-4c22-bc6f-c376b2842dd5",
   "metadata": {},
   "outputs": [
    {
     "data": {
      "image/png": "[encoded data removed]",
      "text/plain": [
       "<PIL.Image.Image image mode=RGB size=512x512>"
      ]
     },
     "execution_count": 13,
     "metadata": {},
     "output_type": "execute_result"
    }
   ],
   "source": [
    "scaled_sep_mask = scale_sep_mask(sep_mask, 4, 4)\n",
    "\n",
    "walls = (scaled_sep_mask > 0).byte()\n",
    "\n",
    "h = rooms[0].grid_height\n",
    "w = rooms[0].grid_width\n",
    "\n",
    "plan_img = Image.new(\"RGB\", (w, h), (255, 255, 255))\n",
    "draw = ImageDraw.Draw(plan_img)\n",
    "\n",
    "for room in rooms:\n",
    "    m = room.to_mask()\n",
    "    n = room.room_type\n",
    "\n",
    "    mask_bitmap = Image.fromarray(m.numpy() * 255, mode=\"L\")\n",
    "    r, g, b = webcolors.hex_to_rgb(NODE_COLOR[n])\n",
    "    draw.bitmap((0, 0), mask_bitmap, fill=(r, g, b))\n",
    "\n",
    "plan_img = plan_img.resize(tuple(walls.shape), Image.Resampling.BOX)\n",
    "\n",
    "mask_bitmap = Image.fromarray(walls.numpy() * 255, mode=\"L\")\n",
    "ImageDraw.Draw(plan_img).bitmap((0, 0), mask_bitmap, fill=(0, 0, 0))\n",
    "\n",
    "plan_img.resize((512,512), Image.Resampling.BOX)\n"
   ]
  }
 ],
 "metadata": {
  "kernelspec": {
   "display_name": "Python 3 (ipykernel)",
   "language": "python",
   "name": "python3"
  },
  "language_info": {
   "codemirror_mode": {
    "name": "ipython",
    "version": 3
   },
   "file_extension": ".py",
   "mimetype": "text/x-python",
   "name": "python",
   "nbconvert_exporter": "python",
   "pygments_lexer": "ipython3",
   "version": "3.9.21"
  }
 },
 "nbformat": 4,
 "nbformat_minor": 5
}
