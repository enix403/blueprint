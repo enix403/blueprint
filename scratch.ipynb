{
 "cells": [
  {
   "cell_type": "code",
   "execution_count": 2,
   "id": "c66dc4d2-743b-4e6e-a683-8e7428be5c4d",
   "metadata": {},
   "outputs": [
    {
     "name": "stdout",
     "output_type": "stream",
     "text": [
      "The autoreload extension is already loaded. To reload it, use:\n",
      "  %reload_ext autoreload\n"
     ]
    }
   ],
   "source": [
    "%load_ext autoreload\n",
    "%autoreload 2"
   ]
  },
  {
   "cell_type": "code",
   "execution_count": 76,
   "id": "9727883f-7d23-49a3-8190-f1ce6f77d4b9",
   "metadata": {},
   "outputs": [],
   "source": [
    "import numpy as np\n",
    "\n",
    "import torch\n",
    "import torch.nn.functional as F\n",
    "from matplotlib import pyplot as plt\n",
    "\n",
    "import networkx as nx\n",
    "\n",
    "from minimal.layout import LayoutGraph, NodeType\n",
    "from minimal.gen import generate_plan, PlanMasks\n",
    "from minimal import sample_graphs\n",
    "from minimal.correction import RoomAreas\n",
    "\n",
    "%matplotlib inline"
   ]
  },
  {
   "cell_type": "code",
   "execution_count": 82,
   "id": "d9873112-a28b-4a36-8c66-ebbb7ff4611a",
   "metadata": {},
   "outputs": [
    {
     "data": {
      "image/png": "[encoded data removed]",
      "text/plain": [
       "<PIL.Image.Image image mode=RGB size=256x256>"
      ]
     },
     "metadata": {},
     "output_type": "display_data"
    },
    {
     "data": {
      "text/plain": [
       "<PlanMasks 139491073898000>"
      ]
     },
     "execution_count": 82,
     "metadata": {},
     "output_type": "execute_result"
    }
   ],
   "source": [
    "pm = PlanMasks.create_from_state(torch.load(\"data/plan_masks_01.pth\"))\n",
    "pm"
   ]
  },
  {
   "cell_type": "code",
   "execution_count": 83,
   "id": "2e5950b7-9d7f-4d7b-8c82-ee89fe5c670e",
   "metadata": {},
   "outputs": [
    {
     "name": "stdout",
     "output_type": "stream",
     "text": [
      "CPU times: user 936 ms, sys: 8 µs, total: 936 ms\n",
      "Wall time: 935 ms\n"
     ]
    }
   ],
   "source": [
    "%%time\n",
    "\n",
    "min_area_units = 10\n",
    "rooms = []\n",
    "for i, node in enumerate(pm.graph.nodes):\n",
    "    if not NodeType.is_room(node):\n",
    "        continue\n",
    "\n",
    "    room = RoomAreas(node, pm.masks[i])\n",
    "    room.threshold_rectangles(min_area_units)\n",
    "    room.discard_small_components()\n",
    "    rooms.append(room)"
   ]
  },
  {
   "cell_type": "code",
   "execution_count": 86,
   "id": "d3b180d1-134e-4af4-9d03-82abcb25bb65",
   "metadata": {},
   "outputs": [
    {
     "data": {
      "text/plain": [
       "<matplotlib.image.AxesImage at 0x7eddcbabed60>"
      ]
     },
     "execution_count": 86,
     "metadata": {},
     "output_type": "execute_result"
    },
    {
     "data": {
      "image/png": "[encoded data removed]",
      "text/plain": [
       "<Figure size 640x480 with 1 Axes>"
      ]
     },
     "metadata": {},
     "output_type": "display_data"
    }
   ],
   "source": [
    "plt.imshow(rooms[0].to_mask())"
   ]
  }
 ],
 "metadata": {
  "kernelspec": {
   "display_name": "Python 3 (ipykernel)",
   "language": "python",
   "name": "python3"
  },
  "language_info": {
   "codemirror_mode": {
    "name": "ipython",
    "version": 3
   },
   "file_extension": ".py",
   "mimetype": "text/x-python",
   "name": "python",
   "nbconvert_exporter": "python",
   "pygments_lexer": "ipython3",
   "version": "3.9.21"
  }
 },
 "nbformat": 4,
 "nbformat_minor": 5
}
