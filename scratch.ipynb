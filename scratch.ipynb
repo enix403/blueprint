{
 "cells": [
  {
   "cell_type": "code",
   "execution_count": 1,
   "id": "c66dc4d2-743b-4e6e-a683-8e7428be5c4d",
   "metadata": {},
   "outputs": [],
   "source": [
    "%load_ext autoreload\n",
    "%autoreload 2"
   ]
  },
  {
   "cell_type": "code",
   "execution_count": 2,
   "id": "9727883f-7d23-49a3-8190-f1ce6f77d4b9",
   "metadata": {},
   "outputs": [],
   "source": [
    "import numpy as np\n",
    "\n",
    "import torch\n",
    "import torch.nn.functional as F\n",
    "import torchvision.transforms as transforms\n",
    "from matplotlib import pyplot as plt\n",
    "from matplotlib import colors\n",
    "from matplotlib.colors import ListedColormap\n",
    "import webcolors\n",
    "from PIL import Image, ImageDraw\n",
    "\n",
    "import networkx as nx\n",
    "\n",
    "from minimal.imaging import blit_rooms, draw_sep_nask_wireframe\n",
    "from minimal.layout import LayoutGraph, NodeType, NODE_COLOR\n",
    "from minimal.gen import PlanMasks\n",
    "\n",
    "from minimal.common import conv_mask\n",
    "from minimal.rooms import calc_min_area, RoomAreas, scale_room_masks\n",
    "from minimal.walls import create_sep_mask, scale_sep_mask, extract_face_walls\n",
    "from minimal.join_solving import select_rooms_to_join\n",
    "from minimal.doors import create_doors, create_cut_wall_mask\n",
    "\n",
    "%matplotlib inline"
   ]
  },
  {
   "cell_type": "code",
   "execution_count": 3,
   "id": "766af95a-77ec-4bd8-a06b-c6c4c1fcad5d",
   "metadata": {},
   "outputs": [],
   "source": [
    "cmapr = ListedColormap(['white', *plt.get_cmap('tab10').colors])\n",
    "cmapw = ListedColormap(['white', 'black', *plt.get_cmap('tab10').colors])"
   ]
  },
  {
   "cell_type": "code",
   "execution_count": 4,
   "id": "d9873112-a28b-4a36-8c66-ebbb7ff4611a",
   "metadata": {},
   "outputs": [
    {
     "name": "stdout",
     "output_type": "stream",
     "text": [
      "CPU times: user 1.9 ms, sys: 0 ns, total: 1.9 ms\n",
      "Wall time: 1.43 ms\n"
     ]
    },
    {
     "data": {
      "image/png": "[encoded data removed]",
      "text/plain": [
       "<PIL.Image.Image image mode=RGB size=256x256>"
      ]
     },
     "metadata": {},
     "output_type": "display_data"
    },
    {
     "data": {
      "text/plain": [
       "<PlanMasks 138653892394624>"
      ]
     },
     "execution_count": 4,
     "metadata": {},
     "output_type": "execute_result"
    }
   ],
   "source": [
    "%%time\n",
    "pm = PlanMasks.create_from_state(torch.load(\"data/plan_masks_01.pth\"))\n",
    "pm"
   ]
  },
  {
   "cell_type": "code",
   "execution_count": 5,
   "id": "f49f8a3f-6cb4-4f03-8af1-e6a807ca1b89",
   "metadata": {},
   "outputs": [],
   "source": [
    "# def calc_min_area(scale: tuple[int, int]):\n",
    "#     return 4\n",
    "\n",
    "InputGraph = LayoutGraph\n",
    "RectGraph = RoomAreas"
   ]
  },
  {
   "cell_type": "code",
   "execution_count": 6,
   "id": "f41da425-fdc9-47be-9d02-cceb6d7360c9",
   "metadata": {},
   "outputs": [],
   "source": [
    "input_graph = pm.graph\n",
    "scale = (3, 3)"
   ]
  },
  {
   "cell_type": "code",
   "execution_count": 7,
   "id": "18d4375d-2302-4cf1-aa8e-3b3b98331b46",
   "metadata": {},
   "outputs": [
    {
     "name": "stdout",
     "output_type": "stream",
     "text": [
      "9\n"
     ]
    }
   ],
   "source": [
    "segmentation_masks = [pm.masks[i] for i in range(pm.masks.shape[0]) if NodeType.is_room(pm.graph.nodes[i])]\n",
    "node_types = [pm.graph.nodes[i] for i in range(pm.masks.shape[0]) if NodeType.is_room(pm.graph.nodes[i])]\n",
    "R = len(segmentation_masks)\n",
    "print(R)"
   ]
  },
  {
   "cell_type": "code",
   "execution_count": 8,
   "id": "1683b119-45dd-42c3-8251-c19633acddd7",
   "metadata": {},
   "outputs": [],
   "source": [
    "min_area_units = calc_min_area(scale)\n",
    "\n",
    "rect_graphs = []\n",
    "for i in range(R):\n",
    "    room_type = node_types[i]\n",
    "    room_sgm_mask = segmentation_masks[i]\n",
    "\n",
    "    graph = RectGraph(room_type, i, room_sgm_mask)\n",
    "\n",
    "    # Remove short rectangles\n",
    "    #\n",
    "    # TODO: maybe keep rectangles with degree >= 2 as they\n",
    "    #       will prove to be a \"pathway\" between multiple\n",
    "    #       (potentially) disconnected rooms\n",
    "    # TODO: store the removed rects (\"bad\" rects) to maybe\n",
    "    #       salvage them later on\n",
    "    graph.threshold_rectangles(min_area_units)\n",
    "\n",
    "    # Keep the largest connected component (by total area)\n",
    "    # \n",
    "    # TODO: store the removed rects (\"bad\" rects) to maybe\n",
    "    #       salvage them later on\n",
    "    graph.discard_small_components()\n",
    "\n",
    "    rect_graphs.append(graph)\n",
    "\n",
    "rect_graphs.sort(key=lambda g: g.total_area())"
   ]
  },
  {
   "cell_type": "code",
   "execution_count": 9,
   "id": "b5ef7603-2f51-4c49-b758-fd258ba63b0e",
   "metadata": {},
   "outputs": [
    {
     "data": {
      "text/plain": [
       "[(9, 3), (8, 1), (9, 6), (6, 4), (9, 5), (9, 8), (7, 2), (9, 7)]"
      ]
     },
     "execution_count": 9,
     "metadata": {},
     "output_type": "execute_result"
    }
   ],
   "source": [
    "rooms_to_join = select_rooms_to_join(rect_graphs, pm.graph)\n",
    "rooms_to_join"
   ]
  },
  {
   "cell_type": "code",
   "execution_count": 10,
   "id": "2bf8fd0c-63aa-4048-b850-717b7801858f",
   "metadata": {},
   "outputs": [
    {
     "name": "stdout",
     "output_type": "stream",
     "text": [
      "torch.Size([192, 192])\n",
      "torch.Size([192, 192])\n"
     ]
    }
   ],
   "source": [
    "room_masks = [] # room_mask(r): 1 = yes r / 0 = no r\n",
    "for graph in rect_graphs:\n",
    "    room_masks.append(graph.to_mask())\n",
    "\n",
    "sep_mask = create_sep_mask(room_masks)\n",
    "\n",
    "room_masks = scale_room_masks(room_masks, scale)\n",
    "sep_mask = scale_sep_mask(sep_mask, *scale)\n",
    "\n",
    "print(room_masks[0].shape)\n",
    "print(sep_mask.shape)"
   ]
  },
  {
   "cell_type": "code",
   "execution_count": 11,
   "id": "9ffd0b62-9f37-4dec-981a-7e6d3dfd39bd",
   "metadata": {},
   "outputs": [],
   "source": [
    "face_walls = extract_face_walls(sep_mask)\n",
    "doors = create_doors(R, rooms_to_join, room_masks, face_walls)"
   ]
  },
  {
   "cell_type": "code",
   "execution_count": 12,
   "id": "e05721a1-128f-4437-8279-5d3396c6a37e",
   "metadata": {},
   "outputs": [
    {
     "data": {
      "text/plain": [
       "<matplotlib.image.AxesImage at 0x7e1a3ea368b0>"
      ]
     },
     "execution_count": 12,
     "metadata": {},
     "output_type": "execute_result"
    },
    {
     "data": {
      "image/png": "[encoded data removed]",
      "text/plain": [
       "<Figure size 800x800 with 4 Axes>"
      ]
     },
     "metadata": {},
     "output_type": "display_data"
    }
   ],
   "source": [
    "walls = create_cut_wall_mask(sep_mask, doors)\n",
    "\n",
    "plt.figure(figsize=(8,8))\n",
    "\n",
    "plt.subplot(221)\n",
    "plt.imshow(blit_rooms(rect_graphs, sep_mask, out_size=384))\n",
    "\n",
    "plt.subplot(222)\n",
    "plt.imshow((sep_mask > 0).byte())\n",
    "\n",
    "plt.subplot(223)\n",
    "plt.imshow(1 - walls, cmap=\"gray\")\n",
    "\n",
    "plt.subplot(224)\n",
    "plt.imshow(blit_rooms(rect_graphs, walls, out_size=384))"
   ]
  }
 ],
 "metadata": {
  "kernelspec": {
   "display_name": "Python 3 (ipykernel)",
   "language": "python",
   "name": "python3"
  },
  "language_info": {
   "codemirror_mode": {
    "name": "ipython",
    "version": 3
   },
   "file_extension": ".py",
   "mimetype": "text/x-python",
   "name": "python",
   "nbconvert_exporter": "python",
   "pygments_lexer": "ipython3",
   "version": "3.9.21"
  }
 },
 "nbformat": 4,
 "nbformat_minor": 5
}
