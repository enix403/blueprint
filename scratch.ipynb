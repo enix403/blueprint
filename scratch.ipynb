{
 "cells": [
  {
   "cell_type": "code",
   "execution_count": 1,
   "id": "c66dc4d2-743b-4e6e-a683-8e7428be5c4d",
   "metadata": {},
   "outputs": [],
   "source": [
    "%load_ext autoreload\n",
    "%autoreload 2"
   ]
  },
  {
   "cell_type": "code",
   "execution_count": 25,
   "id": "9727883f-7d23-49a3-8190-f1ce6f77d4b9",
   "metadata": {},
   "outputs": [],
   "source": [
    "import torch\n",
    "import torch.nn.functional as F\n",
    "from matplotlib import pyplot as plt\n",
    "from matplotlib.colors import ListedColormap\n",
    "\n",
    "import networkx as nx\n",
    "\n",
    "from minimal.imaging import draw_plan\n",
    "from minimal.layout import NodeType, NODE_COLOR, NODE_NAME\n",
    "from minimal.layout import InputLayout, InputLayoutBuilder, into_layout\n",
    "\n",
    "%matplotlib inline"
   ]
  },
  {
   "cell_type": "code",
   "execution_count": 44,
   "id": "12a8c313-57c7-404c-8c04-7bd33bf7f929",
   "metadata": {},
   "outputs": [],
   "source": [
    "from minimal import sample_graphs\n",
    "refn = sample_graphs.two().node_types"
   ]
  },
  {
   "cell_type": "code",
   "execution_count": 87,
   "id": "351dbeb1-652b-45fe-b3ea-ad0b016d95fc",
   "metadata": {},
   "outputs": [],
   "source": [
    "# bad indexes [9, 16]\n",
    "def _invalid_node(i):\n",
    "    return i >= 9 and i <= 16\n",
    "\n",
    "def sh(i):\n",
    "    if i == 17:\n",
    "        return 9\n",
    "    return i"
   ]
  },
  {
   "cell_type": "code",
   "execution_count": 89,
   "id": "27b86f0e-4c6f-4bfe-963c-1f689ec5163a",
   "metadata": {},
   "outputs": [],
   "source": [
    "d = torch.load(\"data/plan_masks_02.pth\")\n",
    "\n",
    "masks = d['masks']\n",
    "nodes = d['graph_dict']['nodes'].tolist()\n",
    "edges = d['graph_dict']['edges'].tolist()\n",
    "\n",
    "fn = [n for n in nodes if n != 16]\n",
    "fe = [(a,b) for a,b in edges if not _invalid_node(a) and not _invalid_node(b)]\n",
    "fe = [(sh(a), sh(b)) for a,b in fe]\n",
    "\n",
    "fm = torch.cat([masks[:9], masks[-1:]])\n",
    "\n",
    "layout = into_layout(fn, fe)\n",
    "masks = fm"
   ]
  }
 ],
 "metadata": {
  "kernelspec": {
   "display_name": "Python 3 (ipykernel)",
   "language": "python",
   "name": "python3"
  },
  "language_info": {
   "codemirror_mode": {
    "name": "ipython",
    "version": 3
   },
   "file_extension": ".py",
   "mimetype": "text/x-python",
   "name": "python",
   "nbconvert_exporter": "python",
   "pygments_lexer": "ipython3",
   "version": "3.9.21"
  }
 },
 "nbformat": 4,
 "nbformat_minor": 5
}
