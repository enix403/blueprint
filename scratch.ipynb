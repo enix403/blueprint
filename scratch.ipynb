{
 "cells": [
  {
   "cell_type": "code",
   "execution_count": 2,
   "id": "c66dc4d2-743b-4e6e-a683-8e7428be5c4d",
   "metadata": {},
   "outputs": [],
   "source": [
    "%load_ext autoreload\n",
    "%autoreload 2"
   ]
  },
  {
   "cell_type": "code",
   "execution_count": 3,
   "id": "9727883f-7d23-49a3-8190-f1ce6f77d4b9",
   "metadata": {},
   "outputs": [],
   "source": [
    "import numpy as np\n",
    "\n",
    "import torch\n",
    "import torch.nn.functional as F\n",
    "import torchvision.transforms as transforms\n",
    "from matplotlib import pyplot as plt\n",
    "from matplotlib import colors\n",
    "from matplotlib.colors import ListedColormap\n",
    "import webcolors\n",
    "from PIL import Image, ImageDraw\n",
    "\n",
    "import networkx as nx\n",
    "\n",
    "from minimal.imaging import blit_rooms, draw_sep_nask_wireframe\n",
    "from minimal.layout import NodeType, NODE_COLOR\n",
    "from minimal.gen import PlanMasks\n",
    "from minimal.rooms import RoomAreas, extract_rooms, scale_room_mask\n",
    "from minimal.walls import create_sep_mask, scale_sep_mask, _conv_mask\n",
    "from minimal.walls import (\n",
    "    CC_TL,\n",
    "    CC_TR,\n",
    "    CC_BR,\n",
    "    CC_BL,\n",
    "    CC_T,\n",
    "    CC_R,\n",
    "    CC_B,\n",
    "    CC_L\n",
    ")\n",
    "from minimal.doors import extract_face_walls, candidate_wall_runs\n",
    "\n",
    "%matplotlib inline"
   ]
  },
  {
   "cell_type": "code",
   "execution_count": 4,
   "id": "766af95a-77ec-4bd8-a06b-c6c4c1fcad5d",
   "metadata": {},
   "outputs": [],
   "source": [
    "cmapr = ListedColormap(['white', *plt.get_cmap('tab10').colors])\n",
    "cmapw = ListedColormap(['white', 'black', *plt.get_cmap('tab10').colors])"
   ]
  },
  {
   "cell_type": "code",
   "execution_count": 5,
   "id": "d9873112-a28b-4a36-8c66-ebbb7ff4611a",
   "metadata": {},
   "outputs": [
    {
     "name": "stdout",
     "output_type": "stream",
     "text": [
      "CPU times: user 813 ms, sys: 0 ns, total: 813 ms\n",
      "Wall time: 812 ms\n"
     ]
    }
   ],
   "source": [
    "%%time\n",
    "pm = PlanMasks.create_from_state(torch.load(\"data/plan_masks_05.pth\"))\n",
    "rooms = extract_rooms(pm)\n",
    "rooms.sort(key=lambda r: r.total_area())\n",
    "# blit_rooms(rooms)"
   ]
  },
  {
   "cell_type": "code",
   "execution_count": 6,
   "id": "585ea312-300e-4231-b9dd-4550cff7cb9d",
   "metadata": {},
   "outputs": [],
   "source": [
    "room_mask = sum(room.to_mask() * (i + 1) for i, room in enumerate(rooms))\n",
    "sep_mask = create_sep_mask(room_mask)"
   ]
  },
  {
   "cell_type": "code",
   "execution_count": 252,
   "id": "554b549f-cb93-4aa3-9ed3-badeca5e9f82",
   "metadata": {},
   "outputs": [],
   "source": [
    "sx = 3\n",
    "sy = 3\n",
    "\n",
    "scaled_sep_mask = scale_sep_mask(sep_mask, sx, sy)\n",
    "scaled_room_mask = scale_room_mask(room_mask, sx, sy)\n",
    "\n",
    "inv_room_mask = [\n",
    "    (scaled_room_mask != i).byte() for i in range(1, len(rooms) + 1)\n",
    "]"
   ]
  },
  {
   "cell_type": "code",
   "execution_count": 8,
   "id": "d704c63b-94a3-4ec1-8c5a-33f1cb36238a",
   "metadata": {},
   "outputs": [],
   "source": [
    "face_walls = extract_face_walls(scaled_sep_mask)"
   ]
  },
  {
   "cell_type": "code",
   "execution_count": 323,
   "id": "0f017bee-48e7-4399-9ee7-9e1f5dfb7d1b",
   "metadata": {},
   "outputs": [
    {
     "name": "stdout",
     "output_type": "stream",
     "text": [
      "2 1 [(90, 82, 28, 'h')]\n",
      "6 1 [(67, 80, 22, 'v')]\n",
      "4 2 [(100, 80, 16, 'v')]\n",
      "6 2 [(91, 80, 7, 'v')]\n",
      "7 2 [(117, 82, 28, 'h')]\n",
      "6 3 [(66, 34, 46, 'h')]\n",
      "7 4 [(117, 34, 46, 'h')]\n",
      "9 8 [(66, 118, 46, 'h')]\n",
      "CPU times: user 229 ms, sys: 6.14 ms, total: 235 ms\n",
      "Wall time: 60.5 ms\n"
     ]
    }
   ],
   "source": [
    "%%time\n",
    "\n",
    "for i in range(len(rooms)):\n",
    "    for j in range(i + 1, len(rooms)):\n",
    "        cruns = candidate_wall_runs(face_walls, scaled_room_mask, inv_room_mask, i + 1, j + 1)\n",
    "        if cruns:\n",
    "            print(j + 1, i + 1, cruns)"
   ]
  },
  {
   "cell_type": "code",
   "execution_count": 319,
   "id": "6d9b1797-12dc-42dc-a5ae-e319b0ad3ff0",
   "metadata": {},
   "outputs": [
    {
     "name": "stdout",
     "output_type": "stream",
     "text": [
      "CPU times: user 7.15 ms, sys: 0 ns, total: 7.15 ms\n",
      "Wall time: 3.57 ms\n"
     ]
    },
    {
     "data": {
      "text/plain": [
       "[(66, 118, 46, 'h')]"
      ]
     },
     "execution_count": 319,
     "metadata": {},
     "output_type": "execute_result"
    }
   ],
   "source": [
    "%%time\n",
    "candidate_wall_runs(face_walls, scaled_room_mask, inv_room_mask, 9, 8)"
   ]
  }
 ],
 "metadata": {
  "kernelspec": {
   "display_name": "Python 3 (ipykernel)",
   "language": "python",
   "name": "python3"
  },
  "language_info": {
   "codemirror_mode": {
    "name": "ipython",
    "version": 3
   },
   "file_extension": ".py",
   "mimetype": "text/x-python",
   "name": "python",
   "nbconvert_exporter": "python",
   "pygments_lexer": "ipython3",
   "version": "3.9.21"
  }
 },
 "nbformat": 4,
 "nbformat_minor": 5
}
