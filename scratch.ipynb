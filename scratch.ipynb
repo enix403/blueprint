{
 "cells": [
  {
   "cell_type": "code",
   "execution_count": 1,
   "id": "c66dc4d2-743b-4e6e-a683-8e7428be5c4d",
   "metadata": {},
   "outputs": [],
   "source": [
    "%load_ext autoreload\n",
    "%autoreload 2"
   ]
  },
  {
   "cell_type": "code",
   "execution_count": 9,
   "id": "9727883f-7d23-49a3-8190-f1ce6f77d4b9",
   "metadata": {},
   "outputs": [],
   "source": [
    "import numpy as np\n",
    "\n",
    "import torch\n",
    "import torch.nn.functional as F\n",
    "import torchvision.transforms as transforms\n",
    "from matplotlib import pyplot as plt\n",
    "from matplotlib import colors\n",
    "from matplotlib.colors import ListedColormap\n",
    "import webcolors\n",
    "from PIL import Image, ImageDraw\n",
    "\n",
    "import networkx as nx\n",
    "\n",
    "from minimal.imaging import blit_rooms, draw_sep_nask_wireframe\n",
    "from minimal.layout import NodeType, NODE_COLOR, NODE_NAME\n",
    "from minimal.gen import PlanMasks\n",
    "\n",
    "from minimal.common import conv_mask\n",
    "from minimal.rooms import calc_min_area, RectGraph, scale_room_masks\n",
    "from minimal.walls import create_sep_mask, scale_sep_mask, extract_face_walls\n",
    "from minimal.join_solving import select_rooms_to_join\n",
    "from minimal.doors import create_doors, create_cut_wall_mask\n",
    "\n",
    "from minimal.common import attr_graph_to_nx\n",
    "from minimal.layoutv2 import into_layout, InputLayout\n",
    "\n",
    "%matplotlib inline"
   ]
  },
  {
   "cell_type": "code",
   "execution_count": 3,
   "id": "d9873112-a28b-4a36-8c66-ebbb7ff4611a",
   "metadata": {},
   "outputs": [
    {
     "name": "stdout",
     "output_type": "stream",
     "text": [
      "CPU times: user 1.47 ms, sys: 132 µs, total: 1.6 ms\n",
      "Wall time: 1.1 ms\n"
     ]
    }
   ],
   "source": [
    "%%time\n",
    "pm = PlanMasks.create_from_state(torch.load(\"data/plan_masks_01.pth\"))"
   ]
  },
  {
   "cell_type": "code",
   "execution_count": 4,
   "id": "9a55291a-015b-47e5-b98b-7f4719db3d0c",
   "metadata": {},
   "outputs": [],
   "source": [
    "node_types = pm.graph.nodes\n",
    "edges = pm.graph.edges"
   ]
  },
  {
   "cell_type": "code",
   "execution_count": 5,
   "id": "0041b8bc-b134-4631-9caa-d33effae9e5b",
   "metadata": {},
   "outputs": [],
   "source": [
    "l = into_layout(node_types, edges)"
   ]
  },
  {
   "cell_type": "code",
   "execution_count": 13,
   "id": "4938cb03-d4d3-4011-811d-f42d1e4925a7",
   "metadata": {},
   "outputs": [],
   "source": [
    "G = attr_graph_to_nx(\n",
    "    l.node_types,\n",
    "    l.edges,\n",
    "    'node_type'\n",
    ")"
   ]
  },
  {
   "cell_type": "code",
   "execution_count": 14,
   "id": "7e528b11-1314-42b6-9e74-e02bed0a3956",
   "metadata": {},
   "outputs": [
    {
     "data": {
      "text/plain": [
       "[(0, {'node_type': 0}),\n",
       " (1, {'node_type': 1}),\n",
       " (2, {'node_type': 2}),\n",
       " (3, {'node_type': 2}),\n",
       " (4, {'node_type': 2}),\n",
       " (5, {'node_type': 3}),\n",
       " (6, {'node_type': 3}),\n",
       " (7, {'node_type': 3}),\n",
       " (8, {'node_type': 4}),\n",
       " (9, {'node_type': 14}),\n",
       " (17, {})]"
      ]
     },
     "execution_count": 14,
     "metadata": {},
     "output_type": "execute_result"
    }
   ],
   "source": [
    "list(G.nodes(data=True))"
   ]
  },
  {
   "cell_type": "code",
   "execution_count": 16,
   "id": "8ff2a3d6-4f47-4f57-8b16-5c1f64ed4164",
   "metadata": {},
   "outputs": [
    {
     "data": {
      "text/plain": [
       "10"
      ]
     },
     "execution_count": 16,
     "metadata": {},
     "output_type": "execute_result"
    }
   ],
   "source": [
    "len(l.node_types)"
   ]
  }
 ],
 "metadata": {
  "kernelspec": {
   "display_name": "Python 3 (ipykernel)",
   "language": "python",
   "name": "python3"
  },
  "language_info": {
   "codemirror_mode": {
    "name": "ipython",
    "version": 3
   },
   "file_extension": ".py",
   "mimetype": "text/x-python",
   "name": "python",
   "nbconvert_exporter": "python",
   "pygments_lexer": "ipython3",
   "version": "3.9.21"
  }
 },
 "nbformat": 4,
 "nbformat_minor": 5
}
