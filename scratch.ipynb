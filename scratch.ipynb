{
 "cells": [
  {
   "cell_type": "code",
   "execution_count": 2,
   "id": "c66dc4d2-743b-4e6e-a683-8e7428be5c4d",
   "metadata": {},
   "outputs": [],
   "source": [
    "%load_ext autoreload\n",
    "%autoreload 2"
   ]
  },
  {
   "cell_type": "code",
   "execution_count": 3,
   "id": "9727883f-7d23-49a3-8190-f1ce6f77d4b9",
   "metadata": {},
   "outputs": [],
   "source": [
    "import numpy as np\n",
    "\n",
    "import torch\n",
    "import torch.nn.functional as F\n",
    "import torchvision.transforms as transforms\n",
    "from matplotlib import pyplot as plt\n",
    "from matplotlib import colors\n",
    "from matplotlib.colors import ListedColormap\n",
    "\n",
    "import networkx as nx\n",
    "\n",
    "from minimal.imaging import blit_rooms\n",
    "from minimal.layout import LayoutGraph, NodeType\n",
    "from minimal.gen import generate_plan, PlanMasks\n",
    "from minimal import sample_graphs\n",
    "from minimal.correction import RoomAreas\n",
    "\n",
    "%matplotlib inline"
   ]
  },
  {
   "cell_type": "code",
   "execution_count": 4,
   "id": "d9873112-a28b-4a36-8c66-ebbb7ff4611a",
   "metadata": {},
   "outputs": [
    {
     "data": {
      "image/png": "[encoded data removed]",
      "text/plain": [
       "<PIL.Image.Image image mode=RGB size=256x256>"
      ]
     },
     "metadata": {},
     "output_type": "display_data"
    },
    {
     "data": {
      "text/plain": [
       "<PlanMasks 137104787303680>"
      ]
     },
     "execution_count": 4,
     "metadata": {},
     "output_type": "execute_result"
    }
   ],
   "source": [
    "pm = PlanMasks.create_from_state(torch.load(\"data/plan_masks_01.pth\"))\n",
    "pm"
   ]
  },
  {
   "cell_type": "code",
   "execution_count": 49,
   "id": "2e5950b7-9d7f-4d7b-8c82-ee89fe5c670e",
   "metadata": {},
   "outputs": [
    {
     "name": "stdout",
     "output_type": "stream",
     "text": [
      "CPU times: user 1.55 s, sys: 0 ns, total: 1.55 s\n",
      "Wall time: 1.54 s\n"
     ]
    }
   ],
   "source": [
    "%%time\n",
    "\n",
    "min_area_units = 10\n",
    "rooms = []\n",
    "masks = []\n",
    "for i, node in enumerate(pm.graph.nodes):\n",
    "    if not NodeType.is_room(node):\n",
    "        continue\n",
    "\n",
    "    room = RoomAreas(node, pm.masks[i])\n",
    "    room.threshold_rectangles(min_area_units)\n",
    "    room.discard_small_components()\n",
    "    masks.append(room.to_mask())\n",
    "    rooms.append(room)"
   ]
  },
  {
   "cell_type": "code",
   "execution_count": 50,
   "id": "eab9e3e5-fa34-40a1-8bb6-3426822e5f75",
   "metadata": {},
   "outputs": [
    {
     "data": {
      "image/png": "[encoded data removed]",
      "text/plain": [
       "<PIL.Image.Image image mode=RGB size=256x256>"
      ]
     },
     "execution_count": 50,
     "metadata": {},
     "output_type": "execute_result"
    }
   ],
   "source": [
    "blit_rooms(rooms)"
   ]
  },
  {
   "cell_type": "code",
   "execution_count": 51,
   "id": "663cff99-bd8b-4949-b8d3-2bfdb74a61c1",
   "metadata": {},
   "outputs": [
    {
     "data": {
      "text/plain": [
       "<matplotlib.image.AxesImage at 0x7cb1ad0a5190>"
      ]
     },
     "execution_count": 51,
     "metadata": {},
     "output_type": "execute_result"
    },
    {
     "data": {
      "image/png": "[encoded data removed]",
      "text/plain": [
       "<Figure size 300x300 with 1 Axes>"
      ]
     },
     "metadata": {},
     "output_type": "display_data"
    }
   ],
   "source": [
    "room_index_mask = sum(room.to_mask() * (i + 1) for i, room in enumerate(rooms))\n",
    "room_index_mask.shape\n",
    "\n",
    "plt.figure(figsize=(3,3))\n",
    "cmap = ListedColormap(['white', *plt.get_cmap('tab20').colors])\n",
    "plt.axis(\"off\")\n",
    "plt.imshow(room_index_mask, cmap=cmap)"
   ]
  },
  {
   "cell_type": "code",
   "execution_count": 118,
   "id": "46a5f3e3-c29d-41d9-8cca-c8dbe2d916d3",
   "metadata": {},
   "outputs": [
    {
     "data": {
      "text/plain": [
       "<matplotlib.image.AxesImage at 0x7cb1a74f2670>"
      ]
     },
     "execution_count": 118,
     "metadata": {},
     "output_type": "execute_result"
    },
    {
     "data": {
      "image/png": "[encoded data removed]",
      "text/plain": [
       "<Figure size 400x400 with 1 Axes>"
      ]
     },
     "metadata": {},
     "output_type": "display_data"
    }
   ],
   "source": [
    "# Fix discontinuities\n",
    "# m1, m2 = disconnections(all_walls)\n",
    "# plt.figure(figsize=(4,4))\n",
    "\n",
    "# m1.add_(m2).clamp_max_(1)\n",
    "# plt.imshow(m1)\n",
    "\n",
    "# all_walls += m1\n",
    "\n",
    "plt.figure(figsize=(4,4))\n",
    "plt.imshow(all_walls)"
   ]
  },
  {
   "cell_type": "code",
   "execution_count": 147,
   "id": "63d473dd-f345-41a1-abb0-a862429097e9",
   "metadata": {},
   "outputs": [
    {
     "data": {
      "text/plain": [
       "<matplotlib.image.AxesImage at 0x7cb1ac1f2640>"
      ]
     },
     "execution_count": 147,
     "metadata": {},
     "output_type": "execute_result"
    },
    {
     "data": {
      "image/png": "[encoded data removed]",
      "text/plain": [
       "<Figure size 640x480 with 1 Axes>"
      ]
     },
     "metadata": {},
     "output_type": "display_data"
    }
   ],
   "source": [
    "total = torch.zeros_like(all_walls)\n",
    "m1, m2 = disconnections(all_walls)\n",
    "\n",
    "total[:-1, :-1] += m1\n",
    "total[1:, 1:] += m1\n",
    "\n",
    "total[:-1, 1:] += m2\n",
    "total[1:, :-1] += m2\n",
    "\n",
    "total.clamp_max_(1)\n",
    "\n",
    "plt.imshow(total + all_walls)"
   ]
  },
  {
   "cell_type": "code",
   "execution_count": 144,
   "id": "f2e028cb-2a8f-4e59-8aa7-dac7cf451ae8",
   "metadata": {},
   "outputs": [],
   "source": [
    "def disconnections(grid):\n",
    "    grid = grid.float().unsqueeze(0).unsqueeze(0)\n",
    "    # Define 2x2 kernels for diagonal patterns\n",
    "    kernel1 = torch.tensor([[2, -1], [-1, 2]], dtype=torch.float32).unsqueeze(0).unsqueeze(0)\n",
    "    kernel2 = torch.tensor([[-1, 2], [2, -1]], dtype=torch.float32).unsqueeze(0).unsqueeze(0)\n",
    "\n",
    "    # Apply convolution\n",
    "    output1 = F.conv2d(grid, kernel1)\n",
    "    output2 = F.conv2d(grid, kernel2)\n",
    "\n",
    "    m1 = (output1 == 4).byte().squeeze()\n",
    "    m2 = (output2 == 4).byte().squeeze()\n",
    "\n",
    "    return m1, m2\n",
    "\n",
    "    total = torch.zeros_like(grid)\n",
    "\n",
    "    total[:-1, :-1] += m1\n",
    "    total[1:, 1:] += m1\n",
    "\n",
    "    total[:-1, 1:] += m2\n",
    "    total[1:, :-1] += m2\n",
    "\n",
    "    total.clamp_max_(1)\n",
    "\n",
    "    return total"
   ]
  },
  {
   "cell_type": "code",
   "execution_count": 85,
   "id": "107d4330-469b-422c-98b1-ae533942bf15",
   "metadata": {},
   "outputs": [],
   "source": [
    "inner_mask = torch.zeros_like(masks[0])\n",
    "inner_walls = torch.zeros_like(masks[0])\n",
    "\n",
    "for i in range(len(masks)):\n",
    "    inner_mask += masks[i]\n",
    "    for j in range(i + 1, len(masks)):\n",
    "        inner_walls += walls_between(masks[i], masks[j])\n",
    "\n",
    "inner_mask.clamp_(0, 1)\n",
    "inner_walls.clamp_(0, 1)\n",
    "\n",
    "outer_mask = (1 - inner_mask).byte()\n",
    "outer_walls = walls_between(inner_mask, outer_mask)\n",
    "\n",
    "all_walls = (inner_walls + outer_walls).clamp_(0, 1)"
   ]
  },
  {
   "cell_type": "code",
   "execution_count": 47,
   "id": "fc27c710-11f8-470d-a4b2-d8da71d0d8cb",
   "metadata": {},
   "outputs": [],
   "source": [
    "def walls_between(room, check_room):\n",
    "    e_top = down((up(room) + check_room == 2).byte())\n",
    "    e_bottom = up((down(room) + check_room == 2).byte())\n",
    "\n",
    "    e_left = right((left(room) + check_room == 2).byte())\n",
    "    e_right = left((right(room) + check_room == 2).byte())\n",
    "\n",
    "    return (e_top + e_right + e_left + e_bottom).clamp_(0, 1)\n"
   ]
  },
  {
   "cell_type": "code",
   "execution_count": 33,
   "id": "054db243-acac-4314-a9aa-36aa3cd5a081",
   "metadata": {},
   "outputs": [],
   "source": [
    "def up(m):\n",
    "    \"\"\"Shifts a 2D mask `m` up\"\"\"\n",
    "    top, rest = m[:1, :], m[1:, :]\n",
    "    return torch.cat([rest, top], dim=0)\n",
    "\n",
    "def down(m):\n",
    "    \"\"\"Shifts a 2D mask `m` down\"\"\"\n",
    "    rest, bottom = m[:-1, :], m[-1:, :]\n",
    "    return torch.cat([bottom, rest], dim=0)\n",
    "\n",
    "def left(m):\n",
    "    \"\"\"Shifts a 2D mask `m` left\"\"\"\n",
    "    first, rest = m[:, :1], m[:, 1:]\n",
    "    return torch.cat([rest, first], dim=1)\n",
    "\n",
    "def right(m):\n",
    "    \"\"\"Shifts a 2D mask `m` down\"\"\"\n",
    "    rest, last = m[:, :-1], m[:, -1:]\n",
    "    return torch.cat([last, rest], dim=1)"
   ]
  }
 ],
 "metadata": {
  "kernelspec": {
   "display_name": "Python 3 (ipykernel)",
   "language": "python",
   "name": "python3"
  },
  "language_info": {
   "codemirror_mode": {
    "name": "ipython",
    "version": 3
   },
   "file_extension": ".py",
   "mimetype": "text/x-python",
   "name": "python",
   "nbconvert_exporter": "python",
   "pygments_lexer": "ipython3",
   "version": "3.9.21"
  }
 },
 "nbformat": 4,
 "nbformat_minor": 5
}
