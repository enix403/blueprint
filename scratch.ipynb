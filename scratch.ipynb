{
 "cells": [
  {
   "cell_type": "code",
   "execution_count": 2,
   "id": "c66dc4d2-743b-4e6e-a683-8e7428be5c4d",
   "metadata": {},
   "outputs": [],
   "source": [
    "%load_ext autoreload\n",
    "%autoreload 2"
   ]
  },
  {
   "cell_type": "code",
   "execution_count": 22,
   "id": "9727883f-7d23-49a3-8190-f1ce6f77d4b9",
   "metadata": {},
   "outputs": [],
   "source": [
    "import numpy as np\n",
    "\n",
    "import torch\n",
    "import torch.nn.functional as F\n",
    "import torchvision.transforms as transforms\n",
    "from matplotlib import pyplot as plt\n",
    "from matplotlib import colors\n",
    "from matplotlib.colors import ListedColormap\n",
    "import webcolors\n",
    "from PIL import Image, ImageDraw\n",
    "\n",
    "import networkx as nx\n",
    "\n",
    "from minimal.layout import NodeType, NODE_COLOR\n",
    "from minimal.gen import PlanMasks\n",
    "from minimal.rooms import RoomAreas, extract_rooms\n",
    "from minimal.walls import (\n",
    "    extract_walls,\n",
    "    BOUNDARY_TOP,\n",
    "    BOUNDARY_RIGHT,\n",
    "    BOUNDARY_BOTTOM,\n",
    "    BOUNDARY_LEFT,\n",
    ")\n",
    "\n",
    "%matplotlib inline"
   ]
  },
  {
   "cell_type": "code",
   "execution_count": 4,
   "id": "766af95a-77ec-4bd8-a06b-c6c4c1fcad5d",
   "metadata": {},
   "outputs": [],
   "source": [
    "cmapr = ListedColormap(['white', *plt.get_cmap('tab10').colors])\n",
    "cmapw = ListedColormap(['white', 'black', *plt.get_cmap('tab10').colors])"
   ]
  },
  {
   "cell_type": "code",
   "execution_count": 5,
   "id": "d9873112-a28b-4a36-8c66-ebbb7ff4611a",
   "metadata": {},
   "outputs": [
    {
     "name": "stdout",
     "output_type": "stream",
     "text": [
      "CPU times: user 838 ms, sys: 707 µs, total: 838 ms\n",
      "Wall time: 838 ms\n"
     ]
    }
   ],
   "source": [
    "%%time\n",
    "pm = PlanMasks.create_from_state(torch.load(\"data/plan_masks_05.pth\"))\n",
    "rooms = extract_rooms(pm)"
   ]
  },
  {
   "cell_type": "code",
   "execution_count": 6,
   "id": "585ea312-300e-4231-b9dd-4550cff7cb9d",
   "metadata": {},
   "outputs": [],
   "source": [
    "rect_mask = sum(room.to_mask() * (i + 1) for i, room in enumerate(rooms))\n",
    "walls_mask, orient_mask = extract_walls(rooms)"
   ]
  },
  {
   "cell_type": "code",
   "execution_count": 113,
   "id": "b8e2c072-4ddd-405f-8b07-8b96a7800fc3",
   "metadata": {},
   "outputs": [],
   "source": [
    "scale_val = 4\n",
    "\n",
    "scale_x = scale_val\n",
    "scale_y = scale_val\n",
    "\n",
    "out_size = 64 * scale_val"
   ]
  },
  {
   "cell_type": "code",
   "execution_count": 114,
   "id": "aba3a5d2-5e72-4add-9f2d-6469a3dc968a",
   "metadata": {},
   "outputs": [],
   "source": [
    "def scale_orientation(\n",
    "    out_mask,\n",
    "    orient_mask,\n",
    "    target_orientation,\n",
    "    scale_x: int, scale_y: int,\n",
    "    dup_x: bool, dup_y: bool,\n",
    "    shift_x: bool, shift_y: bool,\n",
    "):\n",
    "    loc_x, loc_y = torch.where(orient_mask & target_orientation > 0)\n",
    "\n",
    "    loc_x *= scale_x\n",
    "    loc_y *= scale_y\n",
    "\n",
    "    loc_x = torch.cat([loc_x + i * int(dup_x) for i in range(scale_x)])\n",
    "    loc_y = torch.cat([loc_y + i * int(dup_y) for i in range(scale_y)])\n",
    "\n",
    "    loc_x += (scale_x - 1) * int(shift_x)\n",
    "    loc_y += (scale_y - 1) * int(shift_y)\n",
    "\n",
    "    out_mask[loc_x, loc_y] = 1\n",
    "\n",
    "big_walls_mask = torch.zeros((out_size, out_size), dtype=torch.uint8)\n",
    "\n",
    "scale_orientation(big_walls_mask, orient_mask, BOUNDARY_TOP, scale_x, scale_y, 0, 1, 0, 0)\n",
    "scale_orientation(big_walls_mask, orient_mask, BOUNDARY_RIGHT, scale_x, scale_y, 1, 0, 0, 1)\n",
    "scale_orientation(big_walls_mask, orient_mask, BOUNDARY_BOTTOM, scale_x, scale_y, 0, 1, 1, 0)\n",
    "scale_orientation(big_walls_mask, orient_mask, BOUNDARY_LEFT, scale_x, scale_y, 1, 0, 0, 0)"
   ]
  },
  {
   "cell_type": "code",
   "execution_count": 115,
   "id": "8d9eaf40-f1d5-40b5-a8f3-6ecd972687ec",
   "metadata": {},
   "outputs": [
    {
     "data": {
      "image/png": "[encoded data removed]",
      "text/plain": [
       "<PIL.Image.Image image mode=RGB size=512x512>"
      ]
     },
     "execution_count": 115,
     "metadata": {},
     "output_type": "execute_result"
    }
   ],
   "source": [
    "h = rooms[0].grid_height\n",
    "w = rooms[0].grid_width\n",
    "\n",
    "plan_img = Image.new(\"RGB\", (w, h), (255, 255, 255))\n",
    "draw = ImageDraw.Draw(plan_img)\n",
    "\n",
    "for room in rooms:\n",
    "    m = room.to_mask()\n",
    "    n = room.room_type\n",
    "\n",
    "    mask_bitmap = Image.fromarray(m.numpy() * 255, mode=\"L\")\n",
    "    r, g, b = webcolors.hex_to_rgb(NODE_COLOR[n])\n",
    "    draw.bitmap((0, 0), mask_bitmap, fill=(r, g, b))\n",
    "\n",
    "# mask_bitmap = Image.fromarray(walls_mask.numpy() * 255, mode=\"L\")\n",
    "# draw.bitmap((0, 0), mask_bitmap, fill=(0, 0, 0))\n",
    "\n",
    "plan_img = plan_img.resize((out_size, out_size), Image.Resampling.BOX)\n",
    "\n",
    "mask_bitmap = Image.fromarray(big_walls_mask.numpy() * 255, mode=\"L\")\n",
    "ImageDraw.Draw(plan_img).bitmap((0, 0), mask_bitmap, fill=(0, 0, 0))\n",
    "\n",
    "plan_img.resize((512,512), Image.Resampling.BOX)"
   ]
  },
  {
   "cell_type": "code",
   "execution_count": 116,
   "id": "8e81224a-fb05-47f4-ba36-9528c2521650",
   "metadata": {},
   "outputs": [
    {
     "data": {
      "text/plain": [
       "<matplotlib.image.AxesImage at 0x720fb93ef280>"
      ]
     },
     "execution_count": 116,
     "metadata": {},
     "output_type": "execute_result"
    },
    {
     "data": {
      "image/png": "[encoded data removed]",
      "text/plain": [
       "<Figure size 1200x600 with 1 Axes>"
      ]
     },
     "metadata": {},
     "output_type": "display_data"
    }
   ],
   "source": [
    "plt.figure(figsize=(12,6))\n",
    "\n",
    "plt.imshow(big_walls_mask)"
   ]
  }
 ],
 "metadata": {
  "kernelspec": {
   "display_name": "Python 3 (ipykernel)",
   "language": "python",
   "name": "python3"
  },
  "language_info": {
   "codemirror_mode": {
    "name": "ipython",
    "version": 3
   },
   "file_extension": ".py",
   "mimetype": "text/x-python",
   "name": "python",
   "nbconvert_exporter": "python",
   "pygments_lexer": "ipython3",
   "version": "3.9.21"
  }
 },
 "nbformat": 4,
 "nbformat_minor": 5
}
