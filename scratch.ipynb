{
 "cells": [
  {
   "cell_type": "code",
   "execution_count": 1,
   "id": "c66dc4d2-743b-4e6e-a683-8e7428be5c4d",
   "metadata": {},
   "outputs": [],
   "source": [
    "%load_ext autoreload\n",
    "%autoreload 2"
   ]
  },
  {
   "cell_type": "code",
   "execution_count": 2,
   "id": "9727883f-7d23-49a3-8190-f1ce6f77d4b9",
   "metadata": {},
   "outputs": [],
   "source": [
    "import numpy as np\n",
    "\n",
    "import torch\n",
    "import torch.nn.functional as F\n",
    "import torchvision.transforms as transforms\n",
    "from matplotlib import pyplot as plt\n",
    "from matplotlib import colors\n",
    "from matplotlib.colors import ListedColormap\n",
    "\n",
    "import networkx as nx\n",
    "\n",
    "from minimal.imaging import blit_rooms\n",
    "from minimal.layout import LayoutGraph, NodeType\n",
    "from minimal.gen import generate_plan, PlanMasks\n",
    "from minimal import sample_graphs\n",
    "from minimal.correction import RoomAreas\n",
    "\n",
    "%matplotlib inline"
   ]
  },
  {
   "cell_type": "code",
   "execution_count": 5,
   "id": "d9873112-a28b-4a36-8c66-ebbb7ff4611a",
   "metadata": {},
   "outputs": [],
   "source": [
    "pm = PlanMasks.create_from_state(torch.load(\"data/plan_masks_02.pth\"))"
   ]
  },
  {
   "cell_type": "code",
   "execution_count": 6,
   "id": "2e5950b7-9d7f-4d7b-8c82-ee89fe5c670e",
   "metadata": {},
   "outputs": [
    {
     "name": "stdout",
     "output_type": "stream",
     "text": [
      "CPU times: user 1.12 s, sys: 3.45 ms, total: 1.12 s\n",
      "Wall time: 1.12 s\n"
     ]
    }
   ],
   "source": [
    "%%time\n",
    "\n",
    "min_area_units = 10\n",
    "rooms = []\n",
    "masks = []\n",
    "for i, node in enumerate(pm.graph.nodes):\n",
    "    if not NodeType.is_room(node):\n",
    "        continue\n",
    "\n",
    "    room = RoomAreas(node, pm.masks[i])\n",
    "    room.threshold_rectangles(min_area_units)\n",
    "    room.discard_small_components()\n",
    "    masks.append(room.to_mask())\n",
    "    rooms.append(room)"
   ]
  },
  {
   "cell_type": "code",
   "execution_count": 7,
   "id": "eab9e3e5-fa34-40a1-8bb6-3426822e5f75",
   "metadata": {},
   "outputs": [
    {
     "data": {
      "image/png": "[encoded data removed]",
      "text/plain": [
       "<PIL.Image.Image image mode=RGB size=256x256>"
      ]
     },
     "execution_count": 7,
     "metadata": {},
     "output_type": "execute_result"
    }
   ],
   "source": [
    "blit_rooms(rooms)"
   ]
  },
  {
   "cell_type": "code",
   "execution_count": 8,
   "id": "663cff99-bd8b-4949-b8d3-2bfdb74a61c1",
   "metadata": {},
   "outputs": [
    {
     "data": {
      "text/plain": [
       "<matplotlib.image.AxesImage at 0x73e9cff1eac0>"
      ]
     },
     "execution_count": 8,
     "metadata": {},
     "output_type": "execute_result"
    },
    {
     "data": {
      "image/png": "[encoded data removed]",
      "text/plain": [
       "<Figure size 300x300 with 1 Axes>"
      ]
     },
     "metadata": {},
     "output_type": "display_data"
    }
   ],
   "source": [
    "room_index_mask = sum(room.to_mask() * (i + 1) for i, room in enumerate(rooms))\n",
    "room_index_mask.shape\n",
    "\n",
    "plt.figure(figsize=(3,3))\n",
    "cmap = ListedColormap(['white', *plt.get_cmap('tab20').colors])\n",
    "plt.axis(\"off\")\n",
    "plt.imshow(room_index_mask, cmap=cmap)"
   ]
  },
  {
   "cell_type": "code",
   "execution_count": 49,
   "id": "1a6bf71c-fcfc-465c-a97d-881f21c82fd8",
   "metadata": {},
   "outputs": [
    {
     "data": {
      "text/plain": [
       "<matplotlib.image.AxesImage at 0x73e9c7f06ac0>"
      ]
     },
     "execution_count": 49,
     "metadata": {},
     "output_type": "execute_result"
    },
    {
     "data": {
      "image/png": "[encoded data removed]",
      "text/plain": [
       "<Figure size 1500x500 with 3 Axes>"
      ]
     },
     "metadata": {},
     "output_type": "display_data"
    }
   ],
   "source": [
    "m, p_walls = detect_unjoined_corners(all_walls, inner_mask)\n",
    "\n",
    "plt.figure(figsize=(15,5))\n",
    "\n",
    "plt.subplot(1,3,1)\n",
    "plt.imshow(all_walls + m)\n",
    "\n",
    "plt.subplot(1,3,2)\n",
    "plt.imshow(p_walls.squeeze())\n",
    "\n",
    "plt.subplot(1,3,3)\n",
    "plt.imshow(all_walls + m + p_walls.squeeze())"
   ]
  },
  {
   "cell_type": "code",
   "execution_count": 40,
   "id": "ee6f8844-6736-45bb-b994-5b3b8ebb6c0d",
   "metadata": {},
   "outputs": [],
   "source": [
    "\"\"\"\n",
    "\n",
    "walls can be added at low res and scaled as needed\n",
    "walls need to keep orientation\n",
    "walls need to know which rect/room they belong to\n",
    "make sure extra \"joined\" bits of walls are properly\n",
    "    connected to representation\n",
    "\n",
    "what about parallel displaced walls? like this\n",
    "    ----|\n",
    "        ----\n",
    "\n",
    "\"\"\"\n",
    "\n",
    "ftl = torch.tensor([\n",
    "    [0,  0,  0,  0,  0],\n",
    "    [0,  0,  0,  0,  0],\n",
    "    [0,  0, -1,  2,  2],\n",
    "    [0,  0,  2, -1,  0],\n",
    "    [0,  0,  2,  0,  0],\n",
    "], dtype=torch.int8).unsqueeze(0).unsqueeze(0)\n",
    "\n",
    "ftr = torch.tensor([\n",
    "    [0,  0,  0,  0,  0],\n",
    "    [0,  0,  0,  0,  0],\n",
    "    [2,  2, -1,  0,  0],\n",
    "    [0, -1,  2,  0,  0],\n",
    "    [0,  0,  2,  0,  0],\n",
    "], dtype=torch.int8).unsqueeze(0).unsqueeze(0)\n",
    "\n",
    "fbr = torch.tensor([\n",
    "    [0,  0,  2,  0,  0],\n",
    "    [0, -1,  2,  0,  0],\n",
    "    [2,  2, -1,  0,  0],\n",
    "    [0,  0,  0,  0,  0],\n",
    "    [0,  0,  0,  0,  0],\n",
    "], dtype=torch.int8).unsqueeze(0).unsqueeze(0)\n",
    "\n",
    "fbl = torch.tensor([\n",
    "    [0,  0,  2,  0,  0],\n",
    "    [0,  0,  2, -1,  0],\n",
    "    [0,  0, -1,  2,  2],\n",
    "    [0,  0,  0,  0,  0],\n",
    "    [0,  0,  0,  0,  0],\n",
    "], dtype=torch.int8).unsqueeze(0).unsqueeze(0)\n",
    "\n",
    "\n",
    "# ----------------------\n",
    "\n",
    "fp1 = torch.tensor([\n",
    "    [0,  0,  0,  0,  0],\n",
    "    [0,  0,  0,  0,  0],\n",
    "    [2,  2, -1,  0,  0],\n",
    "    [0, -1,  2,  2,  0],\n",
    "    [0,  0,  0,  0,  0],\n",
    "], dtype=torch.int8).unsqueeze(0).unsqueeze(0)\n",
    "\n",
    "fp2 = torch.tensor([\n",
    "    [0, 0,  0,  0,  0],\n",
    "    [0, 2,  2, -1,  0],\n",
    "    [0, 0, -1,  2,  2],\n",
    "    [0, 0,  0,  0,  0],\n",
    "    [0, 0,  0,  0,  0],\n",
    "], dtype=torch.int8).unsqueeze(0).unsqueeze(0)\n",
    "\n",
    "fp3 = torch.tensor([\n",
    "    [0,  0,  0,  0,  0],\n",
    "    [0,  0,  0,  2,  0],\n",
    "    [0,  0, -1,  2,  0],\n",
    "    [0,  0,  2, -1,  0],\n",
    "    [0,  0,  2,  0,  0],\n",
    "], dtype=torch.int8).unsqueeze(0).unsqueeze(0)\n",
    "\n",
    "fp4 = torch.tensor([\n",
    "    [0,  0,  2,  0,  0],\n",
    "    [0, -1,  2,  0,  0],\n",
    "    [0,  2, -1,  0,  0],\n",
    "    [0,  2,  0,  0,  0],\n",
    "    [0,  0,  0,  0,  0],\n",
    "], dtype=torch.int8).unsqueeze(0).unsqueeze(0)\n",
    "\n",
    "# ----------------------\n",
    "\n",
    "def detect_unjoined_corners(walls, inner_mask):\n",
    "    initial = walls\n",
    "\n",
    "    walls = walls.to(torch.int8).unsqueeze(0).unsqueeze(0)\n",
    "    walls = walls.clone()\n",
    "\n",
    "    for kernel in [ftl, ftr, fbr, fbl]:\n",
    "        res = F.conv2d(walls, kernel, padding=2)\n",
    "        res = (res == 8).byte()\n",
    "        \n",
    "        walls += res\n",
    "        walls.clamp_max_(1)\n",
    "\n",
    "    p_walls = torch.zeros_like(initial).unsqueeze(0).unsqueeze(0)\n",
    "\n",
    "    for kernel in [fp1, fp2, fp3, fp4]:\n",
    "        res = F.conv2d(walls, kernel, padding=2)\n",
    "        res = (res == 8).byte()\n",
    "\n",
    "        p_walls += res\n",
    "        p_walls.clamp_max_(1)\n",
    "\n",
    "    # p_walls = torch.logical_and(p_walls, inner_mask)\n",
    "\n",
    "    # walls += p_walls\n",
    "    # walls.clamp_max_(1)\n",
    "\n",
    "    return walls.squeeze() - initial, p_walls"
   ]
  },
  {
   "cell_type": "code",
   "execution_count": 11,
   "id": "107d4330-469b-422c-98b1-ae533942bf15",
   "metadata": {},
   "outputs": [],
   "source": [
    "inner_mask = torch.zeros_like(masks[0])\n",
    "inner_walls = torch.zeros_like(masks[0])\n",
    "\n",
    "for i in range(len(masks)):\n",
    "    inner_mask += masks[i]\n",
    "    for j in range(i + 1, len(masks)):\n",
    "        inner_walls += walls_between(masks[i], masks[j])\n",
    "\n",
    "inner_mask.clamp_(0, 1)\n",
    "inner_walls.clamp_(0, 1)\n",
    "\n",
    "outer_mask = (1 - inner_mask).byte()\n",
    "outer_walls = walls_between(inner_mask, outer_mask)\n",
    "\n",
    "all_walls = (inner_walls + outer_walls).clamp_(0, 1)"
   ]
  },
  {
   "cell_type": "code",
   "execution_count": 10,
   "id": "fc27c710-11f8-470d-a4b2-d8da71d0d8cb",
   "metadata": {},
   "outputs": [],
   "source": [
    "def walls_between(room, check_room):\n",
    "    e_top = down((up(room) + check_room == 2).byte())\n",
    "    e_bottom = up((down(room) + check_room == 2).byte())\n",
    "\n",
    "    e_left = right((left(room) + check_room == 2).byte())\n",
    "    e_right = left((right(room) + check_room == 2).byte())\n",
    "\n",
    "    return (e_top + e_right + e_left + e_bottom).clamp_(0, 1)\n"
   ]
  },
  {
   "cell_type": "code",
   "execution_count": 9,
   "id": "054db243-acac-4314-a9aa-36aa3cd5a081",
   "metadata": {},
   "outputs": [],
   "source": [
    "def up(m):\n",
    "    \"\"\"Shifts a 2D mask `m` up\"\"\"\n",
    "    top, rest = m[:1, :], m[1:, :]\n",
    "    return torch.cat([rest, top], dim=0)\n",
    "\n",
    "def down(m):\n",
    "    \"\"\"Shifts a 2D mask `m` down\"\"\"\n",
    "    rest, bottom = m[:-1, :], m[-1:, :]\n",
    "    return torch.cat([bottom, rest], dim=0)\n",
    "\n",
    "def left(m):\n",
    "    \"\"\"Shifts a 2D mask `m` left\"\"\"\n",
    "    first, rest = m[:, :1], m[:, 1:]\n",
    "    return torch.cat([rest, first], dim=1)\n",
    "\n",
    "def right(m):\n",
    "    \"\"\"Shifts a 2D mask `m` down\"\"\"\n",
    "    rest, last = m[:, :-1], m[:, -1:]\n",
    "    return torch.cat([last, rest], dim=1)"
   ]
  }
 ],
 "metadata": {
  "kernelspec": {
   "display_name": "Python 3 (ipykernel)",
   "language": "python",
   "name": "python3"
  },
  "language_info": {
   "codemirror_mode": {
    "name": "ipython",
    "version": 3
   },
   "file_extension": ".py",
   "mimetype": "text/x-python",
   "name": "python",
   "nbconvert_exporter": "python",
   "pygments_lexer": "ipython3",
   "version": "3.9.21"
  }
 },
 "nbformat": 4,
 "nbformat_minor": 5
}
