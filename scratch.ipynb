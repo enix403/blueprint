{
 "cells": [
  {
   "cell_type": "code",
   "execution_count": 1,
   "id": "c66dc4d2-743b-4e6e-a683-8e7428be5c4d",
   "metadata": {},
   "outputs": [],
   "source": [
    "%load_ext autoreload\n",
    "%autoreload 2"
   ]
  },
  {
   "cell_type": "code",
   "execution_count": 8,
   "id": "9727883f-7d23-49a3-8190-f1ce6f77d4b9",
   "metadata": {},
   "outputs": [],
   "source": [
    "import numpy as np\n",
    "\n",
    "import torch\n",
    "import torch.nn.functional as F\n",
    "import torchvision.transforms as transforms\n",
    "from matplotlib import pyplot as plt\n",
    "from matplotlib import colors\n",
    "from matplotlib.colors import ListedColormap\n",
    "\n",
    "import networkx as nx\n",
    "\n",
    "from minimal.imaging import blit_rooms\n",
    "from minimal.layout import LayoutGraph, NodeType\n",
    "from minimal.gen import generate_plan, PlanMasks\n",
    "from minimal import sample_graphs\n",
    "from minimal.correction import RoomAreas\n",
    "\n",
    "%matplotlib inline"
   ]
  },
  {
   "cell_type": "code",
   "execution_count": 3,
   "id": "d9873112-a28b-4a36-8c66-ebbb7ff4611a",
   "metadata": {},
   "outputs": [
    {
     "data": {
      "image/png": "[encoded data removed]",
      "text/plain": [
       "<PIL.Image.Image image mode=RGB size=256x256>"
      ]
     },
     "metadata": {},
     "output_type": "display_data"
    },
    {
     "data": {
      "text/plain": [
       "<PlanMasks 138817171781520>"
      ]
     },
     "execution_count": 3,
     "metadata": {},
     "output_type": "execute_result"
    }
   ],
   "source": [
    "pm = PlanMasks.create_from_state(torch.load(\"data/plan_masks_01.pth\"))\n",
    "pm"
   ]
  },
  {
   "cell_type": "code",
   "execution_count": 4,
   "id": "2e5950b7-9d7f-4d7b-8c82-ee89fe5c670e",
   "metadata": {},
   "outputs": [
    {
     "name": "stdout",
     "output_type": "stream",
     "text": [
      "CPU times: user 784 ms, sys: 898 µs, total: 785 ms\n",
      "Wall time: 783 ms\n"
     ]
    }
   ],
   "source": [
    "%%time\n",
    "\n",
    "min_area_units = 10\n",
    "rooms = []\n",
    "for i, node in enumerate(pm.graph.nodes):\n",
    "    if not NodeType.is_room(node):\n",
    "        continue\n",
    "\n",
    "    room = RoomAreas(node, pm.masks[i])\n",
    "    room.threshold_rectangles(min_area_units)\n",
    "    room.discard_small_components()\n",
    "    rooms.append(room)"
   ]
  },
  {
   "cell_type": "code",
   "execution_count": 5,
   "id": "eab9e3e5-fa34-40a1-8bb6-3426822e5f75",
   "metadata": {},
   "outputs": [
    {
     "data": {
      "image/png": "[encoded data removed]",
      "text/plain": [
       "<PIL.Image.Image image mode=RGB size=256x256>"
      ]
     },
     "execution_count": 5,
     "metadata": {},
     "output_type": "execute_result"
    }
   ],
   "source": [
    "img = blit_rooms(rooms)\n",
    "img"
   ]
  },
  {
   "cell_type": "code",
   "execution_count": 6,
   "id": "785bcb53-1caf-483b-b752-5770f8ad1c43",
   "metadata": {},
   "outputs": [
    {
     "data": {
      "text/plain": [
       "torch.Size([64, 64])"
      ]
     },
     "execution_count": 6,
     "metadata": {},
     "output_type": "execute_result"
    }
   ],
   "source": [
    "room_index_mask = sum(room.to_mask() * (i + 1) for i, room in enumerate(rooms))\n",
    "room_index_mask.shape"
   ]
  },
  {
   "cell_type": "code",
   "execution_count": 15,
   "id": "663cff99-bd8b-4949-b8d3-2bfdb74a61c1",
   "metadata": {},
   "outputs": [
    {
     "data": {
      "text/plain": [
       "<matplotlib.image.AxesImage at 0x7e405938c070>"
      ]
     },
     "execution_count": 15,
     "metadata": {},
     "output_type": "execute_result"
    },
    {
     "data": {
      "image/png": "[encoded data removed]",
      "text/plain": [
       "<Figure size 300x300 with 1 Axes>"
      ]
     },
     "metadata": {},
     "output_type": "display_data"
    }
   ],
   "source": [
    "plt.figure(figsize=(3,3))\n",
    "cmap = ListedColormap(['white', *plt.get_cmap('tab20').colors])\n",
    "plt.axis(\"off\")\n",
    "plt.imshow(room_index_mask, cmap=cmap)"
   ]
  }
 ],
 "metadata": {
  "kernelspec": {
   "display_name": "Python 3 (ipykernel)",
   "language": "python",
   "name": "python3"
  },
  "language_info": {
   "codemirror_mode": {
    "name": "ipython",
    "version": 3
   },
   "file_extension": ".py",
   "mimetype": "text/x-python",
   "name": "python",
   "nbconvert_exporter": "python",
   "pygments_lexer": "ipython3",
   "version": "3.9.21"
  }
 },
 "nbformat": 4,
 "nbformat_minor": 5
}
