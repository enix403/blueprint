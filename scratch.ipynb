{
 "cells": [
  {
   "cell_type": "code",
   "execution_count": 2,
   "id": "c66dc4d2-743b-4e6e-a683-8e7428be5c4d",
   "metadata": {},
   "outputs": [],
   "source": [
    "%load_ext autoreload\n",
    "%autoreload 2"
   ]
  },
  {
   "cell_type": "code",
   "execution_count": 3,
   "id": "9727883f-7d23-49a3-8190-f1ce6f77d4b9",
   "metadata": {},
   "outputs": [],
   "source": [
    "import numpy as np\n",
    "\n",
    "import torch\n",
    "import torch.nn.functional as F\n",
    "import torchvision.transforms as transforms\n",
    "from matplotlib import pyplot as plt\n",
    "from matplotlib import colors\n",
    "from matplotlib.colors import ListedColormap\n",
    "\n",
    "import networkx as nx\n",
    "\n",
    "from minimal.imaging import blit_rooms\n",
    "from minimal.layout import LayoutGraph, NodeType\n",
    "from minimal.gen import generate_plan, PlanMasks\n",
    "from minimal import sample_graphs\n",
    "from minimal.correction import RoomAreas\n",
    "\n",
    "%matplotlib inline"
   ]
  },
  {
   "cell_type": "code",
   "execution_count": 4,
   "id": "d9873112-a28b-4a36-8c66-ebbb7ff4611a",
   "metadata": {},
   "outputs": [
    {
     "data": {
      "image/png": "[encoded data removed]",
      "text/plain": [
       "<PIL.Image.Image image mode=RGB size=256x256>"
      ]
     },
     "metadata": {},
     "output_type": "display_data"
    },
    {
     "data": {
      "text/plain": [
       "<PlanMasks 137104787303680>"
      ]
     },
     "execution_count": 4,
     "metadata": {},
     "output_type": "execute_result"
    }
   ],
   "source": [
    "pm = PlanMasks.create_from_state(torch.load(\"data/plan_masks_01.pth\"))\n",
    "pm"
   ]
  },
  {
   "cell_type": "code",
   "execution_count": 49,
   "id": "2e5950b7-9d7f-4d7b-8c82-ee89fe5c670e",
   "metadata": {},
   "outputs": [
    {
     "name": "stdout",
     "output_type": "stream",
     "text": [
      "CPU times: user 1.55 s, sys: 0 ns, total: 1.55 s\n",
      "Wall time: 1.54 s\n"
     ]
    }
   ],
   "source": [
    "%%time\n",
    "\n",
    "min_area_units = 10\n",
    "rooms = []\n",
    "masks = []\n",
    "for i, node in enumerate(pm.graph.nodes):\n",
    "    if not NodeType.is_room(node):\n",
    "        continue\n",
    "\n",
    "    room = RoomAreas(node, pm.masks[i])\n",
    "    room.threshold_rectangles(min_area_units)\n",
    "    room.discard_small_components()\n",
    "    masks.append(room.to_mask())\n",
    "    rooms.append(room)"
   ]
  },
  {
   "cell_type": "code",
   "execution_count": 50,
   "id": "eab9e3e5-fa34-40a1-8bb6-3426822e5f75",
   "metadata": {},
   "outputs": [
    {
     "data": {
      "image/png": "[encoded data removed]",
      "text/plain": [
       "<PIL.Image.Image image mode=RGB size=256x256>"
      ]
     },
     "execution_count": 50,
     "metadata": {},
     "output_type": "execute_result"
    }
   ],
   "source": [
    "blit_rooms(rooms)"
   ]
  },
  {
   "cell_type": "code",
   "execution_count": 51,
   "id": "663cff99-bd8b-4949-b8d3-2bfdb74a61c1",
   "metadata": {},
   "outputs": [
    {
     "data": {
      "text/plain": [
       "<matplotlib.image.AxesImage at 0x7cb1ad0a5190>"
      ]
     },
     "execution_count": 51,
     "metadata": {},
     "output_type": "execute_result"
    },
    {
     "data": {
      "image/png": "[encoded data removed]",
      "text/plain": [
       "<Figure size 300x300 with 1 Axes>"
      ]
     },
     "metadata": {},
     "output_type": "display_data"
    }
   ],
   "source": [
    "room_index_mask = sum(room.to_mask() * (i + 1) for i, room in enumerate(rooms))\n",
    "room_index_mask.shape\n",
    "\n",
    "plt.figure(figsize=(3,3))\n",
    "cmap = ListedColormap(['white', *plt.get_cmap('tab20').colors])\n",
    "plt.axis(\"off\")\n",
    "plt.imshow(room_index_mask, cmap=cmap)"
   ]
  },
  {
   "cell_type": "code",
   "execution_count": 71,
   "id": "46a5f3e3-c29d-41d9-8cca-c8dbe2d916d3",
   "metadata": {},
   "outputs": [
    {
     "data": {
      "text/plain": [
       "<matplotlib.image.AxesImage at 0x7cb1acfdfd00>"
      ]
     },
     "execution_count": 71,
     "metadata": {},
     "output_type": "execute_result"
    },
    {
     "data": {
      "image/png": "[encoded data removed]",
      "text/plain": [
       "<Figure size 640x480 with 1 Axes>"
      ]
     },
     "metadata": {},
     "output_type": "display_data"
    }
   ],
   "source": [
    "# plt.figure(figsize=(3,3))\n",
    "plt.imshow(walls_mask, cmap=\"tab)"
   ]
  },
  {
   "cell_type": "code",
   "execution_count": 52,
   "id": "c2699d90-5bf4-4fe1-840c-f72520a3fb23",
   "metadata": {},
   "outputs": [],
   "source": [
    "# plt.imshow(rooms[3].to_mask())\n",
    "\n",
    "# r1 = rooms[2].to_mask()\n",
    "# r2 = rooms[3].to_mask()"
   ]
  },
  {
   "cell_type": "code",
   "execution_count": 70,
   "id": "107d4330-469b-422c-98b1-ae533942bf15",
   "metadata": {},
   "outputs": [],
   "source": [
    "walls_mask = torch.zeros_like(masks[0])\n",
    "inside_mask = torch.zeros_like(masks[0])\n",
    "\n",
    "for i in range(len(masks)):\n",
    "    inside_mask += masks[i]\n",
    "    for j in range(i + 1, len(masks)):\n",
    "        walls_mask += walls_between(masks[i], masks[j])\n",
    "\n",
    "\n",
    "inside_mask.clamp_(0, 1)\n",
    "outside_mask = (1 - inside_mask).byte()\n",
    "\n",
    "outer_walls = walls_between(inside_mask, outside_mask)\n",
    "\n",
    "walls_mask.clamp_(0, 1);\n",
    "walls_mask += outer_walls"
   ]
  },
  {
   "cell_type": "code",
   "execution_count": 54,
   "id": "5b9c41ed-be74-4d78-8839-dc1f548fae5f",
   "metadata": {},
   "outputs": [
    {
     "data": {
      "text/plain": [
       "<matplotlib.image.AxesImage at 0x7cb1aedc7cd0>"
      ]
     },
     "execution_count": 54,
     "metadata": {},
     "output_type": "execute_result"
    },
    {
     "data": {
      "image/png": "[encoded data removed]",
      "text/plain": [
       "<Figure size 300x300 with 1 Axes>"
      ]
     },
     "metadata": {},
     "output_type": "display_data"
    }
   ],
   "source": []
  },
  {
   "cell_type": "code",
   "execution_count": null,
   "id": "2792d8b3-a481-428c-a1af-56bfa4a8dd48",
   "metadata": {},
   "outputs": [],
   "source": []
  },
  {
   "cell_type": "code",
   "execution_count": null,
   "id": "69d4aced-b738-4ded-b3c0-04b02b6fdb73",
   "metadata": {},
   "outputs": [],
   "source": []
  },
  {
   "cell_type": "code",
   "execution_count": 47,
   "id": "fc27c710-11f8-470d-a4b2-d8da71d0d8cb",
   "metadata": {},
   "outputs": [],
   "source": [
    "def walls_between(room, check_room):\n",
    "    e_top = down((up(room) + check_room == 2).byte())\n",
    "    e_bottom = up((down(room) + check_room == 2).byte())\n",
    "\n",
    "    e_left = right((left(room) + check_room == 2).byte())\n",
    "    e_right = left((right(room) + check_room == 2).byte())\n",
    "\n",
    "    return (e_top + e_right + e_left + e_bottom).clamp_(0, 1)\n"
   ]
  },
  {
   "cell_type": "code",
   "execution_count": 33,
   "id": "054db243-acac-4314-a9aa-36aa3cd5a081",
   "metadata": {},
   "outputs": [],
   "source": [
    "def up(m):\n",
    "    \"\"\"Shifts a 2D mask `m` up\"\"\"\n",
    "    top, rest = m[:1, :], m[1:, :]\n",
    "    return torch.cat([rest, top], dim=0)\n",
    "\n",
    "def down(m):\n",
    "    \"\"\"Shifts a 2D mask `m` down\"\"\"\n",
    "    rest, bottom = m[:-1, :], m[-1:, :]\n",
    "    return torch.cat([bottom, rest], dim=0)\n",
    "\n",
    "def left(m):\n",
    "    \"\"\"Shifts a 2D mask `m` left\"\"\"\n",
    "    first, rest = m[:, :1], m[:, 1:]\n",
    "    return torch.cat([rest, first], dim=1)\n",
    "\n",
    "def right(m):\n",
    "    \"\"\"Shifts a 2D mask `m` down\"\"\"\n",
    "    rest, last = m[:, :-1], m[:, -1:]\n",
    "    return torch.cat([last, rest], dim=1)"
   ]
  }
 ],
 "metadata": {
  "kernelspec": {
   "display_name": "Python 3 (ipykernel)",
   "language": "python",
   "name": "python3"
  },
  "language_info": {
   "codemirror_mode": {
    "name": "ipython",
    "version": 3
   },
   "file_extension": ".py",
   "mimetype": "text/x-python",
   "name": "python",
   "nbconvert_exporter": "python",
   "pygments_lexer": "ipython3",
   "version": "3.9.21"
  }
 },
 "nbformat": 4,
 "nbformat_minor": 5
}
