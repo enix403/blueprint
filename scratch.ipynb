{
 "cells": [
  {
   "cell_type": "code",
   "execution_count": 1,
   "id": "c66dc4d2-743b-4e6e-a683-8e7428be5c4d",
   "metadata": {},
   "outputs": [],
   "source": [
    "%load_ext autoreload\n",
    "%autoreload 2"
   ]
  },
  {
   "cell_type": "code",
   "execution_count": 11,
   "id": "9727883f-7d23-49a3-8190-f1ce6f77d4b9",
   "metadata": {},
   "outputs": [],
   "source": [
    "import numpy as np\n",
    "\n",
    "import torch\n",
    "import torch.nn.functional as F\n",
    "import torchvision.transforms as transforms\n",
    "from matplotlib import pyplot as plt\n",
    "from matplotlib import colors\n",
    "from matplotlib.colors import ListedColormap\n",
    "\n",
    "import networkx as nx\n",
    "\n",
    "from minimal.imaging import blit_rooms\n",
    "from minimal.layout import LayoutGraph, NodeType\n",
    "from minimal.gen import generate_plan, PlanMasks\n",
    "from minimal import sample_graphs\n",
    "from minimal.rooms import RoomAreas, extract_rooms, create_orientation_mask\n",
    "from minimal.walls import find_walls, intersect_rooms, join_wall_corners, _conv_mask\n",
    "\n",
    "%matplotlib inline"
   ]
  },
  {
   "cell_type": "code",
   "execution_count": 3,
   "id": "766af95a-77ec-4bd8-a06b-c6c4c1fcad5d",
   "metadata": {},
   "outputs": [],
   "source": [
    "cmapr = ListedColormap(['white', *plt.get_cmap('tab10').colors])\n",
    "cmapw = ListedColormap(['white', 'black', *plt.get_cmap('tab10').colors])"
   ]
  },
  {
   "cell_type": "code",
   "execution_count": 22,
   "id": "d9873112-a28b-4a36-8c66-ebbb7ff4611a",
   "metadata": {},
   "outputs": [
    {
     "name": "stdout",
     "output_type": "stream",
     "text": [
      "CPU times: user 1.33 s, sys: 0 ns, total: 1.33 s\n",
      "Wall time: 1.33 s\n"
     ]
    }
   ],
   "source": [
    "%%time\n",
    "pm = PlanMasks.create_from_state(torch.load(\"data/plan_masks_01.pth\"))\n",
    "rooms = extract_rooms(pm)"
   ]
  },
  {
   "cell_type": "code",
   "execution_count": 29,
   "id": "335901a2-bcd5-42ed-9e6a-779d3cbf8d1a",
   "metadata": {},
   "outputs": [],
   "source": [
    "rect_mask = sum(room.to_mask() * (i + 1) for i, room in enumerate(rooms))"
   ]
  },
  {
   "cell_type": "code",
   "execution_count": 55,
   "id": "585ea312-300e-4231-b9dd-4550cff7cb9d",
   "metadata": {},
   "outputs": [],
   "source": [
    "walls_mask, orient_mask, inner_mask = intersect_rooms(rooms)"
   ]
  },
  {
   "cell_type": "code",
   "execution_count": 56,
   "id": "bccf7122-006f-4907-83cd-6787ef9adf99",
   "metadata": {},
   "outputs": [],
   "source": [
    "_, corners = join_wall_corners(walls_mask, inner_mask)"
   ]
  },
  {
   "cell_type": "code",
   "execution_count": 68,
   "id": "10cc3bc7-cafe-45a4-a156-4741eec41f17",
   "metadata": {},
   "outputs": [],
   "source": [
    "# fmt: off\n",
    "BOUNDARY_TOP    = 0b0001\n",
    "BOUNDARY_RIGHT  = 0b0010\n",
    "BOUNDARY_BOTTOM = 0b0100\n",
    "BOUNDARY_LEFT   = 0b1000\n",
    "# fmt: on\n",
    "\n",
    "# L shaped corner for orientation masking\n",
    "_kerns3 = torch.tensor([\n",
    "    [ -1,  2,  0],\n",
    "    [  2, -1,  0],\n",
    "    [  0,  0,  0]\n",
    "], dtype=torch.int8)\n",
    "\n",
    "all_kerns3 = [\n",
    "    _kerns3, # R + B\n",
    "    torch.flip(_kerns3, (0,)), # T + R\n",
    "    torch.flip(_kerns3, (1,)), # B + L\n",
    "    torch.flip(_kerns3, (0, 1)), # T + L\n",
    "]\n",
    "\n",
    "orientations = [\n",
    "    BOUNDARY_RIGHT + BOUNDARY_BOTTOM,\n",
    "    BOUNDARY_TOP + BOUNDARY_RIGHT,\n",
    "    BOUNDARY_BOTTOM + BOUNDARY_LEFT,\n",
    "    BOUNDARY_TOP + BOUNDARY_LEFT,\n",
    "]\n",
    "\n",
    "corners_orient_mask = torch.zeros_like(orient_mask)\n",
    "\n",
    "for kern, ort in zip(all_kerns3, orientations):\n",
    "    cur_corners = _conv_mask(walls_mask, kern, 4) * corners\n",
    "    corners_orient_mask[torch.where(cur_corners == 1)] = ort"
   ]
  },
  {
   "cell_type": "code",
   "execution_count": 69,
   "id": "918dcc31-7cad-4c7d-90e9-00fae86e8eb2",
   "metadata": {},
   "outputs": [
    {
     "data": {
      "text/plain": [
       "<matplotlib.image.AxesImage at 0x715017e4e2b0>"
      ]
     },
     "execution_count": 69,
     "metadata": {},
     "output_type": "execute_result"
    },
    {
     "data": {
      "image/png": "[encoded data removed]",
      "text/plain": [
       "<Figure size 1500x500 with 3 Axes>"
      ]
     },
     "metadata": {},
     "output_type": "display_data"
    }
   ],
   "source": [
    "plt.figure(figsize=(15,5))\n",
    "\n",
    "plt.subplot(131)\n",
    "plt.imshow(corners_orient_mask)\n",
    "\n",
    "plt.subplot(132)\n",
    "plt.imshow(orient_mask)\n",
    "\n",
    "plt.subplot(133)\n",
    "plt.imshow(orient_mask + corners_orient_mask)"
   ]
  },
  {
   "cell_type": "code",
   "execution_count": 71,
   "id": "c8cd6cbc-fc01-441d-a285-d2fadb189071",
   "metadata": {},
   "outputs": [
    {
     "data": {
      "text/plain": [
       "tensor([ 0,  1,  2,  3,  4,  6,  8,  9, 12], dtype=torch.uint8)"
      ]
     },
     "execution_count": 71,
     "metadata": {},
     "output_type": "execute_result"
    }
   ],
   "source": [
    "torch.unique(orient_mask + corners_orient_mask)"
   ]
  },
  {
   "cell_type": "code",
   "execution_count": 72,
   "id": "49161dd8-4140-4ffd-8d14-30d860992f5e",
   "metadata": {},
   "outputs": [
    {
     "name": "stdout",
     "output_type": "stream",
     "text": [
      "tensor(True)\n"
     ]
    },
    {
     "data": {
      "text/plain": [
       "<matplotlib.image.AxesImage at 0x71501c3ad4f0>"
      ]
     },
     "execution_count": 72,
     "metadata": {},
     "output_type": "execute_result"
    },
    {
     "data": {
      "image/png": "[encoded data removed]",
      "text/plain": [
       "<Figure size 1200x300 with 3 Axes>"
      ]
     },
     "metadata": {},
     "output_type": "display_data"
    }
   ],
   "source": [
    "print(torch.all(walls_mask * inner_mask == walls_mask))\n",
    "\n",
    "plt.figure(figsize=(12,3))\n",
    "\n",
    "plt.subplot(131)\n",
    "plt.imshow(rect_mask, cmap=cmapr)\n",
    "\n",
    "plt.subplot(132)\n",
    "plt.imshow(walls_mask)\n",
    "\n",
    "plt.subplot(133)\n",
    "rooms_with_walls = sum(room.to_mask() * (i + 2) for i, room in enumerate(rooms))\n",
    "rooms_with_walls[torch.where(walls_mask == 1)] = 1\n",
    "plt.imshow(rooms_with_walls, cmap=cmapw)"
   ]
  }
 ],
 "metadata": {
  "kernelspec": {
   "display_name": "Python 3 (ipykernel)",
   "language": "python",
   "name": "python3"
  },
  "language_info": {
   "codemirror_mode": {
    "name": "ipython",
    "version": 3
   },
   "file_extension": ".py",
   "mimetype": "text/x-python",
   "name": "python",
   "nbconvert_exporter": "python",
   "pygments_lexer": "ipython3",
   "version": "3.9.21"
  }
 },
 "nbformat": 4,
 "nbformat_minor": 5
}
