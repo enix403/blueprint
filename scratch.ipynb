{
 "cells": [
  {
   "cell_type": "code",
   "execution_count": 1,
   "id": "c66dc4d2-743b-4e6e-a683-8e7428be5c4d",
   "metadata": {},
   "outputs": [],
   "source": [
    "%load_ext autoreload\n",
    "%autoreload 2"
   ]
  },
  {
   "cell_type": "code",
   "execution_count": 101,
   "id": "9727883f-7d23-49a3-8190-f1ce6f77d4b9",
   "metadata": {},
   "outputs": [],
   "source": [
    "import numpy as np\n",
    "\n",
    "import torch\n",
    "import torch.nn.functional as F\n",
    "import torchvision.transforms as transforms\n",
    "from matplotlib import pyplot as plt\n",
    "from matplotlib import colors\n",
    "from matplotlib.colors import ListedColormap\n",
    "import webcolors\n",
    "from PIL import Image, ImageDraw\n",
    "\n",
    "import networkx as nx\n",
    "\n",
    "from minimal.imaging import blit_rooms, draw_sep_nask_wireframe\n",
    "from minimal.layout import NodeType, NODE_COLOR\n",
    "from minimal.gen import PlanMasks\n",
    "from minimal.rooms import RoomAreas, extract_rooms, scale_room_mask\n",
    "from minimal.walls import create_sep_mask, scale_sep_mask, _conv_mask\n",
    "from minimal.walls import (\n",
    "    CC_TL,\n",
    "    CC_TR,\n",
    "    CC_BR,\n",
    "    CC_BL,\n",
    "    CC_T,\n",
    "    CC_R,\n",
    "    CC_B,\n",
    "    CC_L\n",
    ")\n",
    "from minimal.doors import extract_face_walls\n",
    "\n",
    "%matplotlib inline"
   ]
  },
  {
   "cell_type": "code",
   "execution_count": 33,
   "id": "766af95a-77ec-4bd8-a06b-c6c4c1fcad5d",
   "metadata": {},
   "outputs": [],
   "source": [
    "cmapr = ListedColormap(['white', *plt.get_cmap('tab10').colors])\n",
    "cmapw = ListedColormap(['white', 'black', *plt.get_cmap('tab10').colors])"
   ]
  },
  {
   "cell_type": "code",
   "execution_count": 34,
   "id": "d9873112-a28b-4a36-8c66-ebbb7ff4611a",
   "metadata": {},
   "outputs": [
    {
     "name": "stdout",
     "output_type": "stream",
     "text": [
      "CPU times: user 1.18 s, sys: 4.1 ms, total: 1.18 s\n",
      "Wall time: 1.18 s\n"
     ]
    }
   ],
   "source": [
    "%%time\n",
    "pm = PlanMasks.create_from_state(torch.load(\"data/plan_masks_05.pth\"))\n",
    "rooms = extract_rooms(pm)\n",
    "rooms.sort(key=lambda r: r.total_area())\n",
    "# blit_rooms(rooms)"
   ]
  },
  {
   "cell_type": "code",
   "execution_count": 35,
   "id": "585ea312-300e-4231-b9dd-4550cff7cb9d",
   "metadata": {},
   "outputs": [],
   "source": [
    "room_mask = sum(room.to_mask() * (i + 1) for i, room in enumerate(rooms))\n",
    "sep_mask = create_sep_mask(room_mask)"
   ]
  },
  {
   "cell_type": "code",
   "execution_count": 46,
   "id": "554b549f-cb93-4aa3-9ed3-badeca5e9f82",
   "metadata": {},
   "outputs": [],
   "source": [
    "sx = 3\n",
    "sy = 3\n",
    "\n",
    "scaled_sep_mask = scale_sep_mask(sep_mask, sx, sy)\n",
    "scaled_room_mask = scale_room_mask(room_mask, sx, sy)"
   ]
  },
  {
   "cell_type": "code",
   "execution_count": 168,
   "id": "0f017bee-48e7-4399-9ee7-9e1f5dfb7d1b",
   "metadata": {},
   "outputs": [],
   "source": [
    "face_walls = extract_face_walls(scaled_sep_mask)"
   ]
  },
  {
   "cell_type": "code",
   "execution_count": 95,
   "id": "7546ba9e-12d4-4f65-9208-9c806db2386c",
   "metadata": {},
   "outputs": [],
   "source": [
    "rmask = scaled_room_mask"
   ]
  },
  {
   "cell_type": "code",
   "execution_count": 198,
   "id": "12f76f36-f3fd-4104-8f55-5bea183c760f",
   "metadata": {},
   "outputs": [],
   "source": [
    "ra = 4\n",
    "rb = 2"
   ]
  },
  {
   "cell_type": "code",
   "execution_count": 197,
   "id": "66dd9ab6-a373-4f93-a06c-abdadd69295f",
   "metadata": {},
   "outputs": [
    {
     "data": {
      "text/plain": [
       "[(100, 80, 16, 'v')]"
      ]
     },
     "execution_count": 197,
     "metadata": {},
     "output_type": "execute_result"
    }
   ],
   "source": [
    "all_runs"
   ]
  },
  {
   "cell_type": "code",
   "execution_count": 184,
   "id": "f62670be-0aa2-432f-aa75-6accce7160c4",
   "metadata": {},
   "outputs": [],
   "source": [
    "all_runs = []\n",
    "for i, fw in enumerate(face_walls):\n",
    "    ws = fw.clone()\n",
    "    ws[rmask != ra] = 0\n",
    "    ws = restrict_touching(rmask, ws, ra, rb)\n",
    "    lx, ly = torch.where(ws > 0)\n",
    "\n",
    "    if len(lx) == 0:\n",
    "        continue\n",
    "\n",
    "    transpose = (i == 0 or i == 3)\n",
    "    orient = 'h' if transpose else 'v'\n",
    "\n",
    "    if transpose:\n",
    "        lx, ly = ly, lx\n",
    "\n",
    "    runs = extract_walls_runs(lx, ly)\n",
    "\n",
    "    if transpose:\n",
    "        all_runs.extend(\n",
    "            (y, x, len)\n",
    "            for (x, y, len) in runs\n",
    "        )\n",
    "    else:\n",
    "        all_runs.extend(\n",
    "            (x, y, len, orient)\n",
    "            for (x, y, len) in runs\n",
    "        )"
   ]
  },
  {
   "cell_type": "code",
   "execution_count": 170,
   "id": "c37eab99-dd32-47aa-b412-42152219ea0d",
   "metadata": {},
   "outputs": [],
   "source": [
    "def extract_walls_runs(lx, ly, min_len: int=4):\n",
    "    \n",
    "    lx, idx = torch.sort(lx)\n",
    "    ly = ly[idx]\n",
    "    \n",
    "    runs = []\n",
    "\n",
    "    prev_x = lx[0]\n",
    "    prev_y = ly[0]\n",
    "    cur_len = 1\n",
    "\n",
    "    for x, y in zip(lx[1:], ly[1:]):\n",
    "        if x - prev_x != 1 or y != prev_y:\n",
    "            if cur_len >= min_len:\n",
    "                runs.append((1 + prev_x.item() - cur_len, prev_y.item(), cur_len))\n",
    "            cur_len = 1\n",
    "        else:\n",
    "            cur_len += 1\n",
    "\n",
    "        prev_x = x\n",
    "        prev_y = y\n",
    "\n",
    "    if cur_len >= min_len:\n",
    "        runs.append((1 + prev_x.item() - cur_len, prev_y.item(), cur_len))\n",
    "\n",
    "    return runs"
   ]
  },
  {
   "cell_type": "code",
   "execution_count": 91,
   "id": "6595f837-9e9e-4e25-9d94-4da99da713f1",
   "metadata": {},
   "outputs": [],
   "source": [
    "# plt.imshow(room_mask == ra)"
   ]
  },
  {
   "cell_type": "code",
   "execution_count": 131,
   "id": "aa4ddc2f-a683-46c8-adbe-5cf4af08f0e7",
   "metadata": {},
   "outputs": [],
   "source": []
  },
  {
   "cell_type": "code",
   "execution_count": 99,
   "id": "c0274a0e-16bc-4d61-bcb5-730ff19a5838",
   "metadata": {},
   "outputs": [],
   "source": [
    "def restrict_touching(room_mask, ra_walls, ra, rb):\n",
    "    room_mask = room_mask + 1\n",
    "    ra = ra + 1\n",
    "    rb = rb + 1\n",
    "    \n",
    "    room_mask[room_mask == ra] = 0\n",
    "    room_mask[room_mask == rb] = 0\n",
    "\n",
    "    restricted = (_conv_mask(room_mask, _res_kernel) == 0).byte()\n",
    "    restricted[ra_walls == 0] = 0\n",
    "\n",
    "    return restricted\n",
    "\n",
    "\n",
    "_res_kernel = torch.tensor([\n",
    "    [1, 1, 1],\n",
    "    [1, 0, 1],\n",
    "    [1, 1, 1],\n",
    "], dtype=torch.int8)"
   ]
  },
  {
   "cell_type": "code",
   "execution_count": null,
   "id": "6d9b1797-12dc-42dc-a5ae-e319b0ad3ff0",
   "metadata": {},
   "outputs": [],
   "source": []
  }
 ],
 "metadata": {
  "kernelspec": {
   "display_name": "Python 3 (ipykernel)",
   "language": "python",
   "name": "python3"
  },
  "language_info": {
   "codemirror_mode": {
    "name": "ipython",
    "version": 3
   },
   "file_extension": ".py",
   "mimetype": "text/x-python",
   "name": "python",
   "nbconvert_exporter": "python",
   "pygments_lexer": "ipython3",
   "version": "3.9.21"
  }
 },
 "nbformat": 4,
 "nbformat_minor": 5
}
