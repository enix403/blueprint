{
 "cells": [
  {
   "cell_type": "code",
   "execution_count": 2,
   "id": "c66dc4d2-743b-4e6e-a683-8e7428be5c4d",
   "metadata": {},
   "outputs": [],
   "source": [
    "%load_ext autoreload\n",
    "%autoreload 2"
   ]
  },
  {
   "cell_type": "code",
   "execution_count": 113,
   "id": "9727883f-7d23-49a3-8190-f1ce6f77d4b9",
   "metadata": {},
   "outputs": [],
   "source": [
    "import numpy as np\n",
    "\n",
    "import torch\n",
    "import torch.nn.functional as F\n",
    "import torchvision.transforms as transforms\n",
    "from matplotlib import pyplot as plt\n",
    "from matplotlib import colors\n",
    "from matplotlib.colors import ListedColormap\n",
    "\n",
    "import networkx as nx\n",
    "\n",
    "from minimal.imaging import blit_rooms\n",
    "from minimal.layout import LayoutGraph, NodeType\n",
    "from minimal.gen import generate_plan, PlanMasks\n",
    "from minimal import sample_graphs\n",
    "from minimal.rooms import RoomAreas, extract_rooms, create_orientation_mask\n",
    "from minimal.walls import find_walls, intersect_rooms, join_wall_corners\n",
    "\n",
    "%matplotlib inline"
   ]
  },
  {
   "cell_type": "code",
   "execution_count": 99,
   "id": "766af95a-77ec-4bd8-a06b-c6c4c1fcad5d",
   "metadata": {},
   "outputs": [],
   "source": [
    "cmapr = ListedColormap(['white', *plt.get_cmap('tab10').colors])\n",
    "cmapw = ListedColormap(['white', 'black', *plt.get_cmap('tab10').colors])"
   ]
  },
  {
   "cell_type": "code",
   "execution_count": 114,
   "id": "d9873112-a28b-4a36-8c66-ebbb7ff4611a",
   "metadata": {},
   "outputs": [
    {
     "name": "stdout",
     "output_type": "stream",
     "text": [
      "CPU times: user 1.39 s, sys: 2.3 ms, total: 1.39 s\n",
      "Wall time: 1.39 s\n"
     ]
    }
   ],
   "source": [
    "%%time\n",
    "pm = PlanMasks.create_from_state(torch.load(\"data/plan_masks_03.pth\"))\n",
    "rooms = extract_rooms(pm)"
   ]
  },
  {
   "cell_type": "code",
   "execution_count": 96,
   "id": "335901a2-bcd5-42ed-9e6a-779d3cbf8d1a",
   "metadata": {},
   "outputs": [],
   "source": [
    "rect_mask = sum(room.to_mask() * (i + 1) for i, room in enumerate(rooms))"
   ]
  },
  {
   "cell_type": "code",
   "execution_count": 69,
   "id": "585ea312-300e-4231-b9dd-4550cff7cb9d",
   "metadata": {},
   "outputs": [],
   "source": [
    "inner_mask, walls_mask = intersect_rooms(rooms)"
   ]
  },
  {
   "cell_type": "code",
   "execution_count": 105,
   "id": "49161dd8-4140-4ffd-8d14-30d860992f5e",
   "metadata": {},
   "outputs": [
    {
     "name": "stdout",
     "output_type": "stream",
     "text": [
      "tensor(True)\n"
     ]
    },
    {
     "data": {
      "text/plain": [
       "<matplotlib.image.AxesImage at 0x7909da0e2fd0>"
      ]
     },
     "execution_count": 105,
     "metadata": {},
     "output_type": "execute_result"
    },
    {
     "data": {
      "image/png": "[encoded data removed]",
      "text/plain": [
       "<Figure size 1200x300 with 3 Axes>"
      ]
     },
     "metadata": {},
     "output_type": "display_data"
    }
   ],
   "source": [
    "from minimal.walls import join_wall_corners\n",
    "\n",
    "walls_mask = join_wall_corners(walls_mask, inner_mask)\n",
    "\n",
    "print(torch.all(walls_mask * inner_mask == walls_mask))\n",
    "\n",
    "plt.figure(figsize=(12,3))\n",
    "\n",
    "plt.subplot(131)\n",
    "plt.imshow(rect_mask, cmap=cmapr)\n",
    "\n",
    "plt.subplot(132)\n",
    "plt.imshow(walls_mask)\n",
    "\n",
    "plt.subplot(133)\n",
    "rooms_with_walls = sum(room.to_mask() * (i + 2) for i, room in enumerate(rooms))\n",
    "rooms_with_walls[torch.where(walls_mask == 1)] = 1\n",
    "plt.imshow(rooms_with_walls, cmap=cmapw)"
   ]
  },
  {
   "cell_type": "code",
   "execution_count": 149,
   "id": "ae7079b7-8b02-4600-8c5f-333b15ade3a9",
   "metadata": {},
   "outputs": [],
   "source": [
    "orient_mask = torch.zeros_like(walls_mask)"
   ]
  },
  {
   "cell_type": "code",
   "execution_count": null,
   "id": "b4596021-a123-47f6-8dc3-b59ad0162dcb",
   "metadata": {},
   "outputs": [],
   "source": [
    "\n",
    "\n",
    "for room in rooms:\n",
    "    for rect in room.iter_rects():\n",
    "        mask_rect_boundary(\n",
    "            rect,\n",
    "            orient_mask,\n",
    "            walls_mask\n",
    "        )"
   ]
  }
 ],
 "metadata": {
  "kernelspec": {
   "display_name": "Python 3 (ipykernel)",
   "language": "python",
   "name": "python3"
  },
  "language_info": {
   "codemirror_mode": {
    "name": "ipython",
    "version": 3
   },
   "file_extension": ".py",
   "mimetype": "text/x-python",
   "name": "python",
   "nbconvert_exporter": "python",
   "pygments_lexer": "ipython3",
   "version": "3.9.21"
  }
 },
 "nbformat": 4,
 "nbformat_minor": 5
}
