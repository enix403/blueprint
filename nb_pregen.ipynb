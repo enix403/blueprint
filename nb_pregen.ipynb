{
 "cells": [
  {
   "cell_type": "code",
   "execution_count": 1,
   "id": "fa44a3dc-814d-4866-92ba-f1c7ed2b911f",
   "metadata": {},
   "outputs": [],
   "source": [
    "%load_ext autoreload\n",
    "%autoreload 2"
   ]
  },
  {
   "cell_type": "code",
   "execution_count": 31,
   "id": "fac154f3-e9a2-426a-b69c-c4e662bb3f7f",
   "metadata": {},
   "outputs": [],
   "source": [
    "import os\n",
    "import json\n",
    "import gc\n",
    "\n",
    "import cv2\n",
    "import torch\n",
    "import torch.nn.functional as F\n",
    "import torchvision.transforms as transforms\n",
    "from matplotlib import pyplot as plt\n",
    "from matplotlib import colors\n",
    "from matplotlib.colors import ListedColormap\n",
    "import webcolors\n",
    "from PIL import Image, ImageDraw\n",
    "\n",
    "from minimal.layout import InputLayout\n",
    "from minimal.imaging import draw_plan\n",
    "from minimal.gen import run_model\n",
    "\n",
    "%matplotlib inline"
   ]
  },
  {
   "cell_type": "code",
   "execution_count": 32,
   "id": "30c9018a-185e-4c0f-a75e-81228b218237",
   "metadata": {},
   "outputs": [],
   "source": [
    "from minimal import sample_graphs\n",
    "\n",
    "from pregen.premade import premade_graphs\n",
    "from pregen import signature as sg"
   ]
  },
  {
   "cell_type": "code",
   "execution_count": 20,
   "id": "87a58b80-4dbf-474b-85dd-b05be7384f04",
   "metadata": {},
   "outputs": [],
   "source": [
    "# g.draw()"
   ]
  },
  {
   "cell_type": "code",
   "execution_count": 45,
   "id": "6166ce27-e6d9-43af-829c-014b1e429d55",
   "metadata": {},
   "outputs": [
    {
     "data": {
      "text/plain": [
       "InputLayout(node_types=[0, 1, 2, 2, 3, 3, 3, 14], edges=[(7, 0), (0, 4), (0, 3), (0, 2), (0, 1), (2, 5), (3, 6)], node_labels=[1, 7, 2, 3, 4, 5, 6, 0])"
      ]
     },
     "execution_count": 45,
     "metadata": {},
     "output_type": "execute_result"
    }
   ],
   "source": [
    "g = InputLayout(node_types=[0, 1, 2, 3, 2, 7, 7, 3, 14],\n",
    "                edges=[(8, 0), (0, 4),(0, 2), (0, 1), (2, 7), (4, 6), (0, 3), (3, 5)],\n",
    "                node_labels=[1, 8, 2, 3, 4, 5, 6, 7, 0])\n",
    "\n",
    "sg.find_closest_graph(g)\n",
    "# premade_graphs[45]"
   ]
  },
  {
   "cell_type": "code",
   "execution_count": 27,
   "id": "d6e8e1d0-5d1c-4e60-ad17-40746c134029",
   "metadata": {},
   "outputs": [
    {
     "data": {
      "image/png": "[encoded data removed]",
      "text/plain": [
       "<Figure size 600x300 with 1 Axes>"
      ]
     },
     "metadata": {},
     "output_type": "display_data"
    },
    {
     "data": {
      "image/png": "[encoded data removed]",
      "text/plain": [
       "<Figure size 900x600 with 6 Axes>"
      ]
     },
     "metadata": {},
     "output_type": "display_data"
    }
   ],
   "source": [
    "gi = 4\n",
    "g = premade_graphs[gi]\n",
    "\n",
    "NUM_MAPS = 6\n",
    "results = []\n",
    "for i in range(NUM_MAPS):\n",
    "    masks = run_model(g, num_iters=10)\n",
    "    results.append(masks)\n",
    "\n",
    "plt.figure(figsize=(6,3))\n",
    "g.draw()\n",
    "\n",
    "_, axes = plt.subplots(2,3, figsize=(9, 6), gridspec_kw={'wspace': 0, 'hspace': 0})\n",
    "axes = axes.flatten().tolist()\n",
    "for i, ax in enumerate(axes):\n",
    "    ax.axis('off')\n",
    "    ax.imshow(draw_plan(results[i], g.node_types))\n",
    "plt.tight_layout()"
   ]
  },
  {
   "cell_type": "code",
   "execution_count": 28,
   "id": "0bd4bbaa-6652-455c-9903-1b972f920ddc",
   "metadata": {},
   "outputs": [
    {
     "data": {
      "text/plain": [
       "14307"
      ]
     },
     "execution_count": 28,
     "metadata": {},
     "output_type": "execute_result"
    }
   ],
   "source": [
    "save(3)\n",
    "del results\n",
    "gc.collect()"
   ]
  },
  {
   "cell_type": "code",
   "execution_count": null,
   "id": "8b6fb2fe-fd26-4c37-b623-1ae6b7b49d02",
   "metadata": {},
   "outputs": [],
   "source": []
  },
  {
   "cell_type": "code",
   "execution_count": 23,
   "id": "d92a316e-ce8e-482c-969f-34b45108ec18",
   "metadata": {},
   "outputs": [],
   "source": [
    "def save(*nums):\n",
    "    for n in nums:\n",
    "        if n > 0 and n <= NUM_MAPS:\n",
    "            save_tensor(results[n - 1])\n",
    "\n",
    "def save_tensor(tensor):\n",
    "    folder = \"plibrary/\" + sg.graph_folder_name(g)\n",
    "\n",
    "    # Create the folder if it does not exist\n",
    "    os.makedirs(folder, exist_ok=True)\n",
    "\n",
    "    # Ensure meta file exists\n",
    "    meta_path = os.path.join(folder, \"meta.json\")\n",
    "    if not os.path.exists(meta_path):\n",
    "        with open(meta_path, \"w\") as f:\n",
    "            json.dump({\"count\": 0}, f)\n",
    "\n",
    "    meta_path = os.path.join(folder, \"meta.json\")\n",
    "    with open(meta_path, \"r\") as f:\n",
    "        meta = json.load(f)\n",
    "    count = meta.get(\"count\", 0)\n",
    "    new_count = count + 1\n",
    "\n",
    "    # Save the tensor with the new count as filename\n",
    "    tensor_path = os.path.join(folder, f\"{new_count}.pth\")\n",
    "    torch.save(tensor, tensor_path)\n",
    "\n",
    "    # Update the meta.json with new count\n",
    "    meta[\"count\"] = new_count\n",
    "    with open(meta_path, \"w\") as f:\n",
    "        json.dump(meta, f)\n"
   ]
  }
 ],
 "metadata": {
  "kernelspec": {
   "display_name": "Python 3 (ipykernel)",
   "language": "python",
   "name": "python3"
  },
  "language_info": {
   "codemirror_mode": {
    "name": "ipython",
    "version": 3
   },
   "file_extension": ".py",
   "mimetype": "text/x-python",
   "name": "python",
   "nbconvert_exporter": "python",
   "pygments_lexer": "ipython3",
   "version": "3.9.21"
  }
 },
 "nbformat": 4,
 "nbformat_minor": 5
}
