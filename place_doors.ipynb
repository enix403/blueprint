{
 "cells": [
  {
   "cell_type": "code",
   "execution_count": 1,
   "id": "17e14f7b-28e8-46b9-b670-f083ff64312b",
   "metadata": {},
   "outputs": [],
   "source": [
    "%load_ext autoreload\n",
    "%autoreload 2"
   ]
  },
  {
   "cell_type": "code",
   "execution_count": 31,
   "id": "04a0f366-ccd8-49d0-bd9d-680c264b9c99",
   "metadata": {},
   "outputs": [],
   "source": [
    "import numpy as np\n",
    "\n",
    "import torch\n",
    "import torch.nn.functional as F\n",
    "import torchvision.transforms as transforms\n",
    "from matplotlib import pyplot as plt\n",
    "from matplotlib import colors\n",
    "from matplotlib.colors import ListedColormap\n",
    "import webcolors\n",
    "from PIL import Image, ImageDraw\n",
    "\n",
    "import networkx as nx\n",
    "\n",
    "from minimal.imaging import blit_rooms, draw_sep_nask_wireframe\n",
    "from minimal.layout import NodeType, NODE_COLOR\n",
    "from minimal.gen import PlanMasks\n",
    "from minimal.rooms import RoomAreas, extract_rooms, scale_room_mask\n",
    "from minimal.walls import create_sep_mask, scale_sep_mask, _conv_mask\n",
    "from minimal.doors import extract_face_walls, candidate_wall_runs\n",
    "from minimal.doors import spatial_adj_edges, target_input_edges\n",
    "\n",
    "%matplotlib inline"
   ]
  },
  {
   "cell_type": "code",
   "execution_count": 25,
   "id": "adcfb897-c34a-4dcb-9e84-ecc0f8a258cc",
   "metadata": {},
   "outputs": [
    {
     "name": "stdout",
     "output_type": "stream",
     "text": [
      "CPU times: user 939 ms, sys: 0 ns, total: 939 ms\n",
      "Wall time: 938 ms\n"
     ]
    }
   ],
   "source": [
    "%%time\n",
    "pm = PlanMasks.create_from_state(torch.load(\"data/plan_masks_02.pth\"))\n",
    "rooms = extract_rooms(pm)\n",
    "rooms.sort(key=lambda r: r.total_area())\n",
    "# blit_rooms(rooms)"
   ]
  },
  {
   "cell_type": "code",
   "execution_count": 18,
   "id": "9abb1748-fe4d-4cd4-8d9b-387f6e7daacd",
   "metadata": {},
   "outputs": [],
   "source": [
    "# room_mask = sum(room.to_mask() * (i + 1) for i, room in enumerate(rooms))\n",
    "# sep_mask = create_sep_mask(room_mask)"
   ]
  },
  {
   "cell_type": "code",
   "execution_count": 17,
   "id": "be10109e-5527-4fa3-879c-d442a273f338",
   "metadata": {},
   "outputs": [],
   "source": [
    "# sx = 3\n",
    "# sy = 3\n",
    "\n",
    "# scaled_sep_mask = scale_sep_mask(sep_mask, sx, sy)\n",
    "# scaled_room_mask = scale_room_mask(room_mask, sx, sy)\n",
    "\n",
    "# inv_room_mask = [\n",
    "#     (scaled_room_mask != i).byte() for i in range(1, len(rooms) + 1)\n",
    "# ]"
   ]
  },
  {
   "cell_type": "code",
   "execution_count": 7,
   "id": "eddaf01a-f04d-49bd-b732-54382a96374d",
   "metadata": {},
   "outputs": [],
   "source": [
    "# face_walls = extract_face_walls(scaled_sep_mask)\n",
    "\n",
    "# for i in range(len(rooms)):\n",
    "#     for j in range(i + 1, len(rooms)):\n",
    "#         cruns = candidate_wall_runs(face_walls, scaled_room_mask, inv_room_mask, i + 1, j + 1)\n",
    "#         if cruns:\n",
    "#             print(j + 1, i + 1, cruns)"
   ]
  },
  {
   "cell_type": "code",
   "execution_count": 35,
   "id": "8e1a9daf-c131-4e75-9432-b29ac8d382c4",
   "metadata": {},
   "outputs": [
    {
     "data": {
      "text/plain": [
       "{(3, 2),\n",
       " (4, 1),\n",
       " (5, 2),\n",
       " (5, 3),\n",
       " (7, 4),\n",
       " (7, 6),\n",
       " (8, 1),\n",
       " (8, 4),\n",
       " (8, 6),\n",
       " (8, 7),\n",
       " (9, 3),\n",
       " (9, 5),\n",
       " (9, 6),\n",
       " (9, 7)}"
      ]
     },
     "execution_count": 35,
     "metadata": {},
     "output_type": "execute_result"
    }
   ],
   "source": [
    "spatial_adj_edges(rooms)"
   ]
  },
  {
   "cell_type": "code",
   "execution_count": 37,
   "id": "02605ae7-f86b-4d25-955d-6c0ee4dd50e3",
   "metadata": {},
   "outputs": [
    {
     "data": {
      "text/plain": [
       "{(5, 2), (7, 4), (8, 1), (8, 6), (9, 3), (9, 5), (9, 7), (9, 8)}"
      ]
     },
     "execution_count": 37,
     "metadata": {},
     "output_type": "execute_result"
    }
   ],
   "source": [
    "target_input_edges(pm.graph, rooms)"
   ]
  }
 ],
 "metadata": {
  "kernelspec": {
   "display_name": "Python 3 (ipykernel)",
   "language": "python",
   "name": "python3"
  },
  "language_info": {
   "codemirror_mode": {
    "name": "ipython",
    "version": 3
   },
   "file_extension": ".py",
   "mimetype": "text/x-python",
   "name": "python",
   "nbconvert_exporter": "python",
   "pygments_lexer": "ipython3",
   "version": "3.9.21"
  }
 },
 "nbformat": 4,
 "nbformat_minor": 5
}
