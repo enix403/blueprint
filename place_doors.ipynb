{
 "cells": [
  {
   "cell_type": "code",
   "execution_count": 1,
   "id": "17e14f7b-28e8-46b9-b670-f083ff64312b",
   "metadata": {},
   "outputs": [],
   "source": [
    "%load_ext autoreload\n",
    "%autoreload 2"
   ]
  },
  {
   "cell_type": "code",
   "execution_count": 129,
   "id": "04a0f366-ccd8-49d0-bd9d-680c264b9c99",
   "metadata": {},
   "outputs": [],
   "source": [
    "import numpy as np\n",
    "\n",
    "import torch\n",
    "import torch.nn.functional as F\n",
    "import torchvision.transforms as transforms\n",
    "from matplotlib import pyplot as plt\n",
    "from matplotlib import colors\n",
    "from matplotlib.colors import ListedColormap\n",
    "import webcolors\n",
    "from PIL import Image, ImageDraw\n",
    "from scipy.cluster.hierarchy import DisjointSet\n",
    "\n",
    "import networkx as nx\n",
    "\n",
    "from minimal.imaging import blit_rooms, draw_sep_nask_wireframe\n",
    "from minimal.layout import NodeType, NODE_COLOR\n",
    "from minimal.gen import PlanMasks\n",
    "from minimal.rooms import RoomAreas, extract_rooms\n",
    "from minimal.rooms import create_room_mask, create_inv_room_mask, scale_room_mask\n",
    "from minimal.walls import create_sep_mask, scale_sep_mask, _conv_mask\n",
    "from minimal.doors import extract_face_walls, candidate_wall_runs\n",
    "from minimal.doors import select_rooms_to_join\n",
    "\n",
    "%matplotlib inline"
   ]
  },
  {
   "cell_type": "code",
   "execution_count": 25,
   "id": "adcfb897-c34a-4dcb-9e84-ecc0f8a258cc",
   "metadata": {},
   "outputs": [
    {
     "name": "stdout",
     "output_type": "stream",
     "text": [
      "CPU times: user 939 ms, sys: 0 ns, total: 939 ms\n",
      "Wall time: 938 ms\n"
     ]
    }
   ],
   "source": [
    "%%time\n",
    "pm = PlanMasks.create_from_state(torch.load(\"data/plan_masks_02.pth\"))\n",
    "rooms = extract_rooms(pm)\n",
    "rooms.sort(key=lambda r: r.total_area())\n",
    "# blit_rooms(rooms)"
   ]
  },
  {
   "cell_type": "code",
   "execution_count": 127,
   "id": "a7d01c31-1520-4bca-b5e1-ad0de0f937d4",
   "metadata": {},
   "outputs": [
    {
     "name": "stdout",
     "output_type": "stream",
     "text": [
      "CPU times: user 397 µs, sys: 33 µs, total: 430 µs\n",
      "Wall time: 443 µs\n"
     ]
    },
    {
     "data": {
      "text/plain": [
       "{(5, 2), (7, 4), (8, 1), (8, 4), (8, 6), (9, 3), (9, 5), (9, 7)}"
      ]
     },
     "execution_count": 127,
     "metadata": {},
     "output_type": "execute_result"
    }
   ],
   "source": [
    "%%time\n",
    "\n",
    "# 1-based index\n",
    "rooms_to_join = select_rooms_to_join(rooms, pm.graph)\n",
    "rooms_to_join"
   ]
  },
  {
   "cell_type": "code",
   "execution_count": 134,
   "id": "63aa1ecb-615a-4504-800d-6e8803ff2a55",
   "metadata": {},
   "outputs": [],
   "source": [
    "room_mask = create_room_mask(rooms)\n",
    "sep_mask = create_sep_mask(room_mask)\n",
    "\n",
    "sx = 3\n",
    "sy = 3\n",
    "\n",
    "sep_mask = scale_sep_mask(sep_mask, sx, sy)\n",
    "room_mask = scale_room_mask(room_mask, sx, sy)\n",
    "\n",
    "inv_room_mask = create_inv_room_mask(room_mask, len(rooms))"
   ]
  },
  {
   "cell_type": "code",
   "execution_count": 135,
   "id": "eddaf01a-f04d-49bd-b732-54382a96374d",
   "metadata": {},
   "outputs": [
    {
     "name": "stdout",
     "output_type": "stream",
     "text": [
      "5 2 [(27, 43, 46, 'h')]\n",
      "5 3 [(28, 89, 40, 'v')]\n",
      "9 3 [(69, 91, 28, 'h')]\n",
      "8 4 [(148, 113, 19, 'v')]\n",
      "9 5 [(69, 43, 46, 'h')]\n",
      "8 6 [(117, 70, 43, 'h')]\n",
      "8 7 [(118, 113, 28, 'v')]\n"
     ]
    }
   ],
   "source": [
    "face_walls = extract_face_walls(sep_mask)\n",
    "\n",
    "for i in range(len(rooms)):\n",
    "    for j in range(i + 1, len(rooms)):\n",
    "        cruns = candidate_wall_runs(face_walls, room_mask, inv_room_mask, i + 1, j + 1)\n",
    "        if cruns:\n",
    "            print(j + 1, i + 1, cruns)"
   ]
  }
 ],
 "metadata": {
  "kernelspec": {
   "display_name": "Python 3 (ipykernel)",
   "language": "python",
   "name": "python3"
  },
  "language_info": {
   "codemirror_mode": {
    "name": "ipython",
    "version": 3
   },
   "file_extension": ".py",
   "mimetype": "text/x-python",
   "name": "python",
   "nbconvert_exporter": "python",
   "pygments_lexer": "ipython3",
   "version": "3.9.21"
  }
 },
 "nbformat": 4,
 "nbformat_minor": 5
}
