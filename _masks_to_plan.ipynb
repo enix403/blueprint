{
 "cells": [
  {
   "cell_type": "code",
   "execution_count": 95,
   "id": "c66dc4d2-743b-4e6e-a683-8e7428be5c4d",
   "metadata": {},
   "outputs": [
    {
     "name": "stdout",
     "output_type": "stream",
     "text": [
      "The autoreload extension is already loaded. To reload it, use:\n",
      "  %reload_ext autoreload\n"
     ]
    }
   ],
   "source": [
    "%load_ext autoreload\n",
    "%autoreload 2"
   ]
  },
  {
   "cell_type": "code",
   "execution_count": 96,
   "id": "9727883f-7d23-49a3-8190-f1ce6f77d4b9",
   "metadata": {},
   "outputs": [],
   "source": [
    "import numpy as np\n",
    "\n",
    "import cv2\n",
    "import torch\n",
    "import torch.nn.functional as F\n",
    "import torchvision.transforms as transforms\n",
    "from matplotlib import pyplot as plt\n",
    "from matplotlib import colors\n",
    "from matplotlib.colors import ListedColormap\n",
    "import webcolors\n",
    "from PIL import Image, ImageDraw\n",
    "\n",
    "import networkx as nx\n",
    "\n",
    "from minimal.imaging import blit_rooms, draw_sep_nask_wireframe, draw_plan\n",
    "from minimal.layout import InputLayout, NodeType, NODE_COLOR\n",
    "from minimal.gen import _load_segmentation_dict\n",
    "\n",
    "from minimal.common import conv_mask\n",
    "from minimal.rooms import calc_min_area, RectGraph, scale_room_masks\n",
    "from minimal.walls import create_sep_mask, scale_sep_mask, extract_face_walls\n",
    "from minimal.join_solving import select_rooms_to_join\n",
    "from minimal.doors import create_doors, create_front_doors, create_cut_wall_mask\n",
    "\n",
    "%matplotlib inline"
   ]
  },
  {
   "cell_type": "code",
   "execution_count": 97,
   "id": "f713de38-bf48-4690-8538-be3773904b2a",
   "metadata": {},
   "outputs": [],
   "source": [
    "layout, masks = _load_segmentation_dict(torch.load(\"data/sgm_01.pth\"))\n",
    "scale = (3, 3)"
   ]
  },
  {
   "cell_type": "code",
   "execution_count": 98,
   "id": "18d4375d-2302-4cf1-aa8e-3b3b98331b46",
   "metadata": {},
   "outputs": [
    {
     "name": "stdout",
     "output_type": "stream",
     "text": [
      "9\n"
     ]
    }
   ],
   "source": [
    "R = layout.num_rooms()\n",
    "node_types = layout.node_types[:R]\n",
    "\n",
    "segmentation_masks = masks[:R] # ... run model ...\n",
    "print(R)"
   ]
  },
  {
   "cell_type": "code",
   "execution_count": 5,
   "id": "478ffaf5-e321-4803-b8d6-523efb8087c1",
   "metadata": {},
   "outputs": [],
   "source": [
    "# draw_plan(segmentation_masks, node_types)"
   ]
  },
  {
   "cell_type": "code",
   "execution_count": 99,
   "id": "1683b119-45dd-42c3-8251-c19633acddd7",
   "metadata": {},
   "outputs": [],
   "source": [
    "min_area_units = calc_min_area(scale)\n",
    "\n",
    "rect_graphs = []\n",
    "for i in range(R):\n",
    "    room_type = node_types[i]\n",
    "    room_sgm_mask = segmentation_masks[i]\n",
    "\n",
    "    graph = RectGraph(room_type, i, room_sgm_mask)\n",
    "\n",
    "    # Remove short rectangles\n",
    "    #\n",
    "    # TODO: maybe keep rectangles with degree >= 2 as they\n",
    "    #       will prove to be a \"pathway\" between multiple\n",
    "    #       (potentially) disconnected rooms\n",
    "    # TODO: store the removed rects (\"bad\" rects) to maybe\n",
    "    #       salvage them later on\n",
    "    graph.threshold_rectangles(min_area_units)\n",
    "\n",
    "    # Keep the largest connected component (by total area)\n",
    "    # \n",
    "    # TODO: store the removed rects (\"bad\" rects) to maybe\n",
    "    #       salvage them later on\n",
    "    graph.discard_small_components()\n",
    "\n",
    "    rect_graphs.append(graph)\n",
    "\n",
    "rect_graphs.sort(key=lambda g: g.total_area())"
   ]
  },
  {
   "cell_type": "code",
   "execution_count": 107,
   "id": "2bf8fd0c-63aa-4048-b850-717b7801858f",
   "metadata": {},
   "outputs": [
    {
     "name": "stdout",
     "output_type": "stream",
     "text": [
      "torch.Size([192, 192])\n",
      "torch.Size([192, 192])\n"
     ]
    }
   ],
   "source": [
    "room_masks = [] # room_mask(r): 1 = yes r / 0 = no r\n",
    "for graph in rect_graphs:\n",
    "    room_masks.append(graph.to_mask())\n",
    "\n",
    "sep_mask = create_sep_mask(room_masks)\n",
    "\n",
    "room_masks = scale_room_masks(room_masks, scale)\n",
    "sep_mask = scale_sep_mask(sep_mask, *scale)\n",
    "\n",
    "print(room_masks[0].shape)\n",
    "print(sep_mask.shape)"
   ]
  },
  {
   "cell_type": "code",
   "execution_count": 108,
   "id": "78531670-f059-4e28-9349-3a045469fd83",
   "metadata": {},
   "outputs": [],
   "source": [
    "face_walls = extract_face_walls(sep_mask)"
   ]
  },
  {
   "cell_type": "code",
   "execution_count": 116,
   "id": "002e6e05-2dcc-4536-b1e9-7c670c706c16",
   "metadata": {},
   "outputs": [],
   "source": [
    "# outside_mask = create_front_doors(face_walls, rect_graphs, room_masks, layout)\n",
    "# plt.imshow(outside_mask)"
   ]
  },
  {
   "cell_type": "code",
   "execution_count": 103,
   "id": "9ffd0b62-9f37-4dec-981a-7e6d3dfd39bd",
   "metadata": {},
   "outputs": [
    {
     "name": "stdout",
     "output_type": "stream",
     "text": [
      "tensor([[1, 1, 1,  ..., 1, 1, 1],\n",
      "        [1, 1, 1,  ..., 1, 1, 1],\n",
      "        [1, 1, 1,  ..., 1, 1, 1],\n",
      "        ...,\n",
      "        [1, 1, 1,  ..., 1, 1, 1],\n",
      "        [1, 1, 1,  ..., 1, 1, 1],\n",
      "        [1, 1, 1,  ..., 1, 1, 1]], dtype=torch.uint8)\n"
     ]
    }
   ],
   "source": [
    "rooms_to_join = select_rooms_to_join(rect_graphs, layout)\n",
    "doors = create_doors(rooms_to_join, room_masks, face_walls)\n",
    "\n",
    "front_doors = create_front_doors(face_walls, rect_graphs, room_masks, layout)\n",
    "print(front_doors)\n",
    "doors.extend(front_doors)"
   ]
  },
  {
   "cell_type": "code",
   "execution_count": 69,
   "id": "e05721a1-128f-4437-8279-5d3396c6a37e",
   "metadata": {},
   "outputs": [
    {
     "data": {
      "text/plain": [
       "<matplotlib.image.AxesImage at 0x7f72177b4ac0>"
      ]
     },
     "execution_count": 69,
     "metadata": {},
     "output_type": "execute_result"
    },
    {
     "data": {
      "image/png": "[encoded data removed]",
      "text/plain": [
       "<Figure size 800x800 with 4 Axes>"
      ]
     },
     "metadata": {},
     "output_type": "display_data"
    }
   ],
   "source": [
    "walls = create_cut_wall_mask(sep_mask, doors)\n",
    "\n",
    "plt.figure(figsize=(8,8))\n",
    "\n",
    "plt.subplot(221)\n",
    "plt.imshow(blit_rooms(rect_graphs, sep_mask, out_size=384))\n",
    "\n",
    "plt.subplot(222)\n",
    "plt.imshow((sep_mask > 0).byte())\n",
    "\n",
    "plt.subplot(223)\n",
    "plt.imshow(1 - walls, cmap=\"gray\")\n",
    "\n",
    "plt.subplot(224)\n",
    "plt.imshow(blit_rooms(rect_graphs, walls, out_size=384))"
   ]
  }
 ],
 "metadata": {
  "kernelspec": {
   "display_name": "Python 3 (ipykernel)",
   "language": "python",
   "name": "python3"
  },
  "language_info": {
   "codemirror_mode": {
    "name": "ipython",
    "version": 3
   },
   "file_extension": ".py",
   "mimetype": "text/x-python",
   "name": "python",
   "nbconvert_exporter": "python",
   "pygments_lexer": "ipython3",
   "version": "3.9.21"
  }
 },
 "nbformat": 4,
 "nbformat_minor": 5
}
