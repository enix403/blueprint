{
 "cells": [
  {
   "cell_type": "code",
   "execution_count": 10,
   "id": "c66dc4d2-743b-4e6e-a683-8e7428be5c4d",
   "metadata": {},
   "outputs": [
    {
     "name": "stdout",
     "output_type": "stream",
     "text": [
      "The autoreload extension is already loaded. To reload it, use:\n",
      "  %reload_ext autoreload\n"
     ]
    }
   ],
   "source": [
    "%load_ext autoreload\n",
    "%autoreload 2"
   ]
  },
  {
   "cell_type": "code",
   "execution_count": 30,
   "id": "9727883f-7d23-49a3-8190-f1ce6f77d4b9",
   "metadata": {},
   "outputs": [],
   "source": [
    "import numpy as np\n",
    "\n",
    "import torch\n",
    "import torch.nn.functional as F\n",
    "import torchvision.transforms as transforms\n",
    "from matplotlib import pyplot as plt\n",
    "from matplotlib import colors\n",
    "from matplotlib.colors import ListedColormap\n",
    "import webcolors\n",
    "from PIL import Image, ImageDraw\n",
    "\n",
    "import networkx as nx\n",
    "\n",
    "from minimal.imaging import blit_rooms, draw_sep_nask_wireframe, draw_plan\n",
    "from minimal.layout import InputLayout, NodeType, NODE_COLOR\n",
    "from minimal.gen import _load_segmentation_dict\n",
    "\n",
    "from minimal.common import conv_mask\n",
    "from minimal.rooms import calc_min_area, RectGraph, scale_room_masks\n",
    "from minimal.walls import create_sep_mask, scale_sep_mask, extract_face_walls\n",
    "from minimal.join_solving import select_rooms_to_join\n",
    "from minimal.doors import create_doors, create_front_door, create_cut_wall_mask\n",
    "\n",
    "%matplotlib inline"
   ]
  },
  {
   "cell_type": "code",
   "execution_count": 3,
   "id": "f713de38-bf48-4690-8538-be3773904b2a",
   "metadata": {},
   "outputs": [],
   "source": [
    "layout, masks = _load_segmentation_dict(torch.load(\"data/sgm_01.pth\"))\n",
    "scale = (3, 3)"
   ]
  },
  {
   "cell_type": "code",
   "execution_count": 4,
   "id": "18d4375d-2302-4cf1-aa8e-3b3b98331b46",
   "metadata": {},
   "outputs": [
    {
     "name": "stdout",
     "output_type": "stream",
     "text": [
      "9\n"
     ]
    }
   ],
   "source": [
    "R = layout.num_rooms()\n",
    "node_types = layout.node_types[:R]\n",
    "\n",
    "segmentation_masks = masks[:R] # ... run model ...\n",
    "print(R)"
   ]
  },
  {
   "cell_type": "code",
   "execution_count": 5,
   "id": "478ffaf5-e321-4803-b8d6-523efb8087c1",
   "metadata": {},
   "outputs": [],
   "source": [
    "# draw_plan(segmentation_masks, node_types)"
   ]
  },
  {
   "cell_type": "code",
   "execution_count": 5,
   "id": "1683b119-45dd-42c3-8251-c19633acddd7",
   "metadata": {},
   "outputs": [],
   "source": [
    "min_area_units = calc_min_area(scale)\n",
    "\n",
    "rect_graphs = []\n",
    "for i in range(R):\n",
    "    room_type = node_types[i]\n",
    "    room_sgm_mask = segmentation_masks[i]\n",
    "\n",
    "    graph = RectGraph(room_type, i, room_sgm_mask)\n",
    "\n",
    "    # Remove short rectangles\n",
    "    #\n",
    "    # TODO: maybe keep rectangles with degree >= 2 as they\n",
    "    #       will prove to be a \"pathway\" between multiple\n",
    "    #       (potentially) disconnected rooms\n",
    "    # TODO: store the removed rects (\"bad\" rects) to maybe\n",
    "    #       salvage them later on\n",
    "    graph.threshold_rectangles(min_area_units)\n",
    "\n",
    "    # Keep the largest connected component (by total area)\n",
    "    # \n",
    "    # TODO: store the removed rects (\"bad\" rects) to maybe\n",
    "    #       salvage them later on\n",
    "    graph.discard_small_components()\n",
    "\n",
    "    rect_graphs.append(graph)\n",
    "\n",
    "rect_graphs.sort(key=lambda g: g.total_area())"
   ]
  },
  {
   "cell_type": "code",
   "execution_count": 18,
   "id": "2bf8fd0c-63aa-4048-b850-717b7801858f",
   "metadata": {},
   "outputs": [
    {
     "name": "stdout",
     "output_type": "stream",
     "text": [
      "torch.Size([192, 192])\n",
      "torch.Size([192, 192])\n"
     ]
    }
   ],
   "source": [
    "room_masks = [] # room_mask(r): 1 = yes r / 0 = no r\n",
    "for graph in rect_graphs:\n",
    "    room_masks.append(graph.to_mask())\n",
    "\n",
    "sep_mask = create_sep_mask(room_masks)\n",
    "\n",
    "room_masks = scale_room_masks(room_masks, scale)\n",
    "sep_mask = scale_sep_mask(sep_mask, *scale)\n",
    "\n",
    "print(room_masks[0].shape)\n",
    "print(sep_mask.shape)"
   ]
  },
  {
   "cell_type": "code",
   "execution_count": 35,
   "id": "19a771f1-2af5-487b-a137-f49e3a09e0fc",
   "metadata": {},
   "outputs": [
    {
     "ename": "NameError",
     "evalue": "name 'rooms' is not defined",
     "output_type": "error",
     "traceback": [
      "\u001b[0;31m---------------------------------------------------------------------------\u001b[0m",
      "\u001b[0;31mNameError\u001b[0m                                 Traceback (most recent call last)",
      "Cell \u001b[0;32mIn[35], line 1\u001b[0m\n\u001b[0;32m----> 1\u001b[0m plt\u001b[38;5;241m.\u001b[39mimshow(\u001b[43mcreate_front_door\u001b[49m\u001b[43m(\u001b[49m\u001b[43mroom_masks\u001b[49m\u001b[43m,\u001b[49m\u001b[43m \u001b[49m\u001b[43mlayout\u001b[49m\u001b[43m)\u001b[49m)\n",
      "File \u001b[0;32m~/ser/follows/blueprint/minimal/doors.py:168\u001b[0m, in \u001b[0;36mcreate_front_door\u001b[0;34m(room_masks, layout)\u001b[0m\n\u001b[1;32m    166\u001b[0m \u001b[38;5;66;03m# Find the corresponding indices in the `rooms` array\u001b[39;00m\n\u001b[1;32m    167\u001b[0m front_rooms_idx \u001b[38;5;241m=\u001b[39m \u001b[38;5;28mset\u001b[39m()\n\u001b[0;32m--> 168\u001b[0m \u001b[38;5;28;01mfor\u001b[39;00m i, room \u001b[38;5;129;01min\u001b[39;00m \u001b[38;5;28menumerate\u001b[39m(\u001b[43mrooms\u001b[49m):\n\u001b[1;32m    169\u001b[0m     \u001b[38;5;28;01mif\u001b[39;00m room\u001b[38;5;241m.\u001b[39mroom_node_index \u001b[38;5;129;01min\u001b[39;00m front_rooms_idx_layout:\n\u001b[1;32m    170\u001b[0m         front_rooms_idx\u001b[38;5;241m.\u001b[39madd(i)\n",
      "\u001b[0;31mNameError\u001b[0m: name 'rooms' is not defined"
     ]
    }
   ],
   "source": [
    "plt.imshow(create_front_door(room_masks, layout))"
   ]
  },
  {
   "cell_type": "code",
   "execution_count": 26,
   "id": "9ffd0b62-9f37-4dec-981a-7e6d3dfd39bd",
   "metadata": {},
   "outputs": [],
   "source": [
    "face_walls = extract_face_walls(sep_mask)\n",
    "\n",
    "rooms_to_join = select_rooms_to_join(rect_graphs, layout)\n",
    "doors = create_doors(rooms_to_join, room_masks, face_walls)"
   ]
  },
  {
   "cell_type": "code",
   "execution_count": 27,
   "id": "e05721a1-128f-4437-8279-5d3396c6a37e",
   "metadata": {},
   "outputs": [
    {
     "data": {
      "text/plain": [
       "<matplotlib.image.AxesImage at 0x7f721877afa0>"
      ]
     },
     "execution_count": 27,
     "metadata": {},
     "output_type": "execute_result"
    },
    {
     "data": {
      "image/png": "[encoded data removed]",
      "text/plain": [
       "<Figure size 800x800 with 4 Axes>"
      ]
     },
     "metadata": {},
     "output_type": "display_data"
    }
   ],
   "source": [
    "walls = create_cut_wall_mask(sep_mask, doors)\n",
    "\n",
    "plt.figure(figsize=(8,8))\n",
    "\n",
    "plt.subplot(221)\n",
    "plt.imshow(blit_rooms(rect_graphs, sep_mask, out_size=384))\n",
    "\n",
    "plt.subplot(222)\n",
    "plt.imshow((sep_mask > 0).byte())\n",
    "\n",
    "plt.subplot(223)\n",
    "plt.imshow(1 - walls, cmap=\"gray\")\n",
    "\n",
    "plt.subplot(224)\n",
    "plt.imshow(blit_rooms(rect_graphs, walls, out_size=384))"
   ]
  }
 ],
 "metadata": {
  "kernelspec": {
   "display_name": "Python 3 (ipykernel)",
   "language": "python",
   "name": "python3"
  },
  "language_info": {
   "codemirror_mode": {
    "name": "ipython",
    "version": 3
   },
   "file_extension": ".py",
   "mimetype": "text/x-python",
   "name": "python",
   "nbconvert_exporter": "python",
   "pygments_lexer": "ipython3",
   "version": "3.9.21"
  }
 },
 "nbformat": 4,
 "nbformat_minor": 5
}
