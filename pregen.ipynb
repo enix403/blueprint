{
 "cells": [
  {
   "cell_type": "code",
   "execution_count": 2,
   "id": "fa44a3dc-814d-4866-92ba-f1c7ed2b911f",
   "metadata": {},
   "outputs": [],
   "source": [
    "%load_ext autoreload\n",
    "%autoreload 2"
   ]
  },
  {
   "cell_type": "code",
   "execution_count": 14,
   "id": "fac154f3-e9a2-426a-b69c-c4e662bb3f7f",
   "metadata": {},
   "outputs": [],
   "source": [
    "import cv2\n",
    "import torch\n",
    "import torch.nn.functional as F\n",
    "import torchvision.transforms as transforms\n",
    "from matplotlib import pyplot as plt\n",
    "from matplotlib import colors\n",
    "from matplotlib.colors import ListedColormap\n",
    "import webcolors\n",
    "from PIL import Image, ImageDraw\n",
    "\n",
    "from minimal.imaging import draw_plan\n",
    "from minimal.gen import run_model\n",
    "\n",
    "%matplotlib inline"
   ]
  },
  {
   "cell_type": "code",
   "execution_count": 4,
   "id": "30c9018a-185e-4c0f-a75e-81228b218237",
   "metadata": {},
   "outputs": [],
   "source": [
    "from minimal import sample_graphs\n",
    "\n",
    "from pregen.premade import premade_graphs\n",
    "from pregen import signature as sg"
   ]
  },
  {
   "cell_type": "code",
   "execution_count": 13,
   "id": "25b660f0-bdb4-4554-9ffe-db552859c017",
   "metadata": {},
   "outputs": [],
   "source": [
    "# sg.find_closest_graph(sample_graphs.two()).draw()"
   ]
  },
  {
   "cell_type": "code",
   "execution_count": 12,
   "id": "d3b38ab7-05aa-46c5-b588-1c5766ab24e6",
   "metadata": {},
   "outputs": [],
   "source": [
    "# sample_graphs.two().draw()"
   ]
  },
  {
   "cell_type": "code",
   "execution_count": 31,
   "id": "ed30e181-3ae8-438b-8401-cca5041bcc09",
   "metadata": {},
   "outputs": [
    {
     "name": "stdout",
     "output_type": "stream",
     "text": [
      "CPU times: user 8.86 s, sys: 1.98 s, total: 10.8 s\n",
      "Wall time: 1.84 s\n"
     ]
    },
    {
     "data": {
      "image/png": "[encoded data removed]",
      "text/plain": [
       "<PIL.Image.Image image mode=RGB size=256x256>"
      ]
     },
     "execution_count": 31,
     "metadata": {},
     "output_type": "execute_result"
    }
   ],
   "source": [
    "%%time\n",
    "\n",
    "g = premade_graphs[40]\n",
    "masks = run_model(g, num_iters=10)\n",
    "draw_plan(masks, g.node_types)"
   ]
  }
 ],
 "metadata": {
  "kernelspec": {
   "display_name": "Python 3 (ipykernel)",
   "language": "python",
   "name": "python3"
  },
  "language_info": {
   "codemirror_mode": {
    "name": "ipython",
    "version": 3
   },
   "file_extension": ".py",
   "mimetype": "text/x-python",
   "name": "python",
   "nbconvert_exporter": "python",
   "pygments_lexer": "ipython3",
   "version": "3.9.21"
  }
 },
 "nbformat": 4,
 "nbformat_minor": 5
}
