{
 "cells": [
  {
   "cell_type": "code",
   "execution_count": 1,
   "id": "fa44a3dc-814d-4866-92ba-f1c7ed2b911f",
   "metadata": {},
   "outputs": [],
   "source": [
    "%load_ext autoreload\n",
    "%autoreload 2"
   ]
  },
  {
   "cell_type": "code",
   "execution_count": 57,
   "id": "93b5c510-cf98-48e4-9c06-1a0f2b4421bd",
   "metadata": {},
   "outputs": [],
   "source": [
    "import numpy as np\n",
    "import hashlib\n",
    "\n",
    "import cv2\n",
    "import torch\n",
    "import torch.nn.functional as F\n",
    "import torchvision.transforms as transforms\n",
    "from matplotlib import pyplot as plt\n",
    "from matplotlib import colors\n",
    "from matplotlib.colors import ListedColormap\n",
    "import webcolors\n",
    "from PIL import Image, ImageDraw\n",
    "\n",
    "import networkx as nx\n",
    "\n",
    "from minimal.imaging import blit_rooms, draw_sep_nask_wireframe, draw_plan\n",
    "from minimal.layout import InputLayout, NodeType, NODE_COLOR\n",
    "from minimal.gen import _load_segmentation_dict\n",
    "\n",
    "from minimal.common import conv_mask\n",
    "from minimal.rooms import calc_min_area, RectGraph, scale_room_masks\n",
    "from minimal.walls import create_sep_mask, scale_sep_mask, extract_face_walls\n",
    "from minimal.join_solving import select_rooms_to_join\n",
    "from minimal.doors import create_doors, create_front_doors, create_cut_wall_mask\n",
    "\n",
    "from minimal import sample_graphs\n",
    "\n",
    "%matplotlib inline"
   ]
  },
  {
   "cell_type": "code",
   "execution_count": 4,
   "id": "bfa06581-1358-4b01-a20f-42fe3efe3312",
   "metadata": {},
   "outputs": [],
   "source": [
    "from datasketch import MinHash, MinHashLSH"
   ]
  },
  {
   "cell_type": "code",
   "execution_count": 12,
   "id": "292e4301-6951-4b9d-a1d6-6b03d6e45380",
   "metadata": {},
   "outputs": [],
   "source": [
    "premade_graphs = [\n",
    "    sample_graphs.one(),\n",
    "    sample_graphs.two(),\n",
    "]"
   ]
  },
  {
   "cell_type": "code",
   "execution_count": 49,
   "id": "7c522f91-1335-4a50-9e36-2a8e6e77a071",
   "metadata": {},
   "outputs": [],
   "source": [
    "def minhash_for_graph(graph, num_perm=128) -> MinHash:\n",
    "    m = MinHash(num_perm=num_perm)\n",
    "\n",
    "    # Encode node types\n",
    "    for i, t in enumerate(graph.node_types):\n",
    "        m.update(f\"node-{i}-{t}\".encode())\n",
    "\n",
    "    # Canonicalize and sort edges\n",
    "    canonical_edges = sorted((min(u, v), max(u, v)) for u, v in graph.edges)\n",
    "\n",
    "    # Encode edges as unordered\n",
    "    for u, v in canonical_edges:\n",
    "        m.update(f\"edge-{u}-{v}\".encode())\n",
    "\n",
    "    return m"
   ]
  },
  {
   "cell_type": "code",
   "execution_count": 34,
   "id": "ae6090e2-a5a3-4581-82a5-1966be2e39bb",
   "metadata": {},
   "outputs": [],
   "source": [
    "def graph_similarity(g1, g2) -> float:\n",
    "    # Node type similarity (normalized positional match)\n",
    "    types1, types2 = g1.node_types, g2.node_types\n",
    "    match_len = min(len(types1), len(types2))\n",
    "    type_score = sum(t1 == t2 for t1, t2 in zip(types1, types2)) / max(len(types1), len(types2))\n",
    "\n",
    "    # Edge similarity (unordered set Jaccard)\n",
    "    e1 = {frozenset([u, v]) for u, v in g1.edges}\n",
    "    e2 = {frozenset([u, v]) for u, v in g2.edges}\n",
    "    edge_score = len(e1 & e2) / len(e1 | e2) if e1 or e2 else 1.0\n",
    "\n",
    "    return 0.75 * type_score + 0.25 * edge_score"
   ]
  },
  {
   "cell_type": "code",
   "execution_count": 23,
   "id": "47b8d241-72a6-4dba-a9fc-c34883561d31",
   "metadata": {},
   "outputs": [],
   "source": [
    "def canonical_graph_signature(graph) -> str:\n",
    "    # Node types (already sorted in definition)\n",
    "    node_part = ','.join(map(str, graph.node_types))\n",
    "\n",
    "    # Edges as unordered sets, then sorted\n",
    "    edge_part = ','.join(\n",
    "        f\"{min(u,v)}-{max(u,v)}\" for u, v in sorted(map(lambda e: (min(e), max(e)), graph.edges))\n",
    "    )\n",
    "\n",
    "    return f\"nodes:{node_part}|edges:{edge_part}\""
   ]
  },
  {
   "cell_type": "code",
   "execution_count": 50,
   "id": "ca3bc1e1-0363-463e-b710-0c9dc726a55a",
   "metadata": {},
   "outputs": [],
   "source": [
    "signature_to_graph = {}\n",
    "\n",
    "for graph in premade_graphs:\n",
    "    sig = canonical_graph_signature(graph)\n",
    "    signature_to_graph[sig] = graph\n",
    "\n",
    "# ----\n",
    "\n",
    "num_perm = 128\n",
    "lsh = MinHashLSH(threshold=0.8, num_perm=num_perm)\n",
    "\n",
    "graph_index = []  # Keep for lookup\n",
    "\n",
    "for idx, graph in enumerate(premade_graphs):\n",
    "    mh = minhash_for_graph(graph, num_perm)\n",
    "    lsh.insert(f\"graph_{idx}\", mh)\n",
    "    graph_index.append(graph)\n",
    "\n",
    "\n",
    "def find_closest_graph(query):\n",
    "    sig = canonical_graph_signature(query)\n",
    "    if sig in signature_to_graph:\n",
    "        return signature_to_graph[sig]  # 🎯 Exact match\n",
    "\n",
    "    query_mh = minhash_for_graph(query, num_perm)\n",
    "    candidates = lsh.query(query_mh)\n",
    "\n",
    "    if not candidates:\n",
    "        return None  # No match found\n",
    "\n",
    "    # Rerank candidates using full similarity\n",
    "    best_graph = max(\n",
    "        (graph_index[int(cid.split('_')[1])] for cid in candidates),\n",
    "        key=lambda g: graph_similarity(query, g)\n",
    "    )\n",
    "    return best_graph"
   ]
  },
  {
   "cell_type": "code",
   "execution_count": 36,
   "id": "dfba92cd-03a5-474b-822e-ccb39102de36",
   "metadata": {},
   "outputs": [
    {
     "data": {
      "text/plain": [
       "InputLayout(node_types=[0, 1, 2, 2, 3, 4, 14], edges=[(0, 2), (0, 3), (0, 1), (0, 5), (0, 4), (0, 6)], node_labels=[0, 3, 1, 2, 5, 4, 6])"
      ]
     },
     "execution_count": 36,
     "metadata": {},
     "output_type": "execute_result"
    }
   ],
   "source": [
    "# find_closest_graph(sample_graphs.two()).draw()\n",
    "sample_graphs.one()"
   ]
  },
  {
   "cell_type": "code",
   "execution_count": 53,
   "id": "912dedb1-824c-4647-8fc1-88c5bea337c5",
   "metadata": {},
   "outputs": [],
   "source": [
    "g1 = InputLayout(\n",
    "    node_types=[0, 1, 2, 14],\n",
    "    edges=[(0, 2), (0, 3), (0, 1)],\n",
    "    node_labels=[0, 3, 1, 2])"
   ]
  },
  {
   "cell_type": "code",
   "execution_count": 51,
   "id": "dd1d0116-4455-4755-a384-16731a2e5282",
   "metadata": {},
   "outputs": [],
   "source": [
    "g2 = InputLayout(\n",
    "    node_types=[0, 1, 2, 2, 2, 3, 3, 3, 3, 14],\n",
    "    edges=[(8, 4), (2, 5),  (0, 2), (0, 3),\n",
    "           (0, 4), (4, 7), (0, 1), (0, 9), (3, 6)],\n",
    "    node_labels=[0, 1, 3, 5, 7, 4, 6, 8, 2, 9])"
   ]
  },
  {
   "cell_type": "code",
   "execution_count": 58,
   "id": "e497b917-673b-4482-be43-1e5c1a2b5465",
   "metadata": {},
   "outputs": [],
   "source": [
    "# find_closest_graph(g2).draw()"
   ]
  },
  {
   "cell_type": "code",
   "execution_count": 67,
   "id": "ef2f8d8d-3224-44bf-8eae-81feb5f0acb4",
   "metadata": {},
   "outputs": [
    {
     "name": "stdout",
     "output_type": "stream",
     "text": [
      "8cce7eea2efecca9dddd\n",
      "04210fb7ed75e94f70cd\n"
     ]
    }
   ],
   "source": [
    "def graph_folder_name(graph) -> str:\n",
    "    sig = canonical_graph_signature(graph)\n",
    "    full_hash = hashlib.sha256(sig.encode()).hexdigest()\n",
    "    return full_hash[:20]\n",
    "\n",
    "for g in premade_graphs:\n",
    "    print(graph_folder_name(g))"
   ]
  }
 ],
 "metadata": {
  "kernelspec": {
   "display_name": "Python 3 (ipykernel)",
   "language": "python",
   "name": "python3"
  },
  "language_info": {
   "codemirror_mode": {
    "name": "ipython",
    "version": 3
   },
   "file_extension": ".py",
   "mimetype": "text/x-python",
   "name": "python",
   "nbconvert_exporter": "python",
   "pygments_lexer": "ipython3",
   "version": "3.9.21"
  }
 },
 "nbformat": 4,
 "nbformat_minor": 5
}
